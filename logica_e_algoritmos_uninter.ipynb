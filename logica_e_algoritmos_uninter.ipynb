{
  "nbformat": 4,
  "nbformat_minor": 0,
  "metadata": {
    "colab": {
      "provenance": [],
      "toc_visible": true,
      "authorship_tag": "ABX9TyMRbYHh3LBiJOsTB1i496sQ",
      "include_colab_link": true
    },
    "kernelspec": {
      "name": "python3",
      "display_name": "Python 3"
    },
    "language_info": {
      "name": "python"
    }
  },
  "cells": [
    {
      "cell_type": "markdown",
      "metadata": {
        "id": "view-in-github",
        "colab_type": "text"
      },
      "source": [
        "<a href=\"https://colab.research.google.com/github/Widgz/python_aprendizagem/blob/main/logica_e_algoritmos_uninter.ipynb\" target=\"_parent\"><img src=\"https://colab.research.google.com/assets/colab-badge.svg\" alt=\"Open In Colab\"/></a>"
      ]
    },
    {
      "cell_type": "markdown",
      "source": [
        "# Aula Teórica 1 - Comandos básicos"
      ],
      "metadata": {
        "id": "WsL1FCPBtHtB"
      }
    },
    {
      "cell_type": "markdown",
      "source": [
        "HELLO WORLD"
      ],
      "metadata": {
        "id": "xGvnwd_KblYT"
      }
    },
    {
      "cell_type": "code",
      "execution_count": null,
      "metadata": {
        "colab": {
          "base_uri": "https://localhost:8080/"
        },
        "id": "onW2JGO5aF5T",
        "outputId": "ddf5d74c-0874-4216-baf9-1bf60e428330"
      },
      "outputs": [
        {
          "output_type": "stream",
          "name": "stdout",
          "text": [
            "Olá, mundo!\n"
          ]
        }
      ],
      "source": [
        "print(\"Olá, mundo!\");"
      ]
    },
    {
      "cell_type": "markdown",
      "source": [
        "CONCATENAÇÃO"
      ],
      "metadata": {
        "id": "we7PHQwgbpnc"
      }
    },
    {
      "cell_type": "code",
      "source": [
        "# A vírgula é usada para concatenar, ela insere espaços automaticos\n",
        "print(\"A soma de 2 + 3 é\", 2+3);"
      ],
      "metadata": {
        "colab": {
          "base_uri": "https://localhost:8080/"
        },
        "id": "gAjD4joSbspy",
        "outputId": "ac25351b-0950-4b41-fd65-225e21322e49"
      },
      "execution_count": null,
      "outputs": [
        {
          "output_type": "stream",
          "name": "stdout",
          "text": [
            "A soma de 2 + 3 é 5\n"
          ]
        }
      ]
    },
    {
      "cell_type": "markdown",
      "source": [
        "VARIÁVEIS, DADOS E SEUS TIPOS"
      ],
      "metadata": {
        "id": "mnL-pPSBbPWL"
      }
    },
    {
      "cell_type": "code",
      "source": [
        "# As variáveis não precisam ter seu tipo declarado\n",
        "# O nome da variável não pode iniciar com número\n",
        "nota = 8.5;\n",
        "disciplina = \"Lógica de Programação e Algoritmos\"\n",
        "\n",
        "print(nota);\n",
        "print(disciplina);\n",
        "\n",
        "# Variaveis de nome composto usam o formato:\n",
        "# preco_total   -> tudo minisculo com \"_\" separando"
      ],
      "metadata": {
        "colab": {
          "base_uri": "https://localhost:8080/"
        },
        "id": "uu1d3gopbTU5",
        "outputId": "379ef9f9-4141-4fda-df65-add0675f0ca4"
      },
      "execution_count": null,
      "outputs": [
        {
          "output_type": "stream",
          "name": "stdout",
          "text": [
            "8.5\n",
            "Lógica de Programação e Algoritmos\n"
          ]
        }
      ]
    },
    {
      "cell_type": "code",
      "source": [
        "#Variáveis booleanas (True or False)\n",
        "a = 1;\n",
        "b = 5;\n",
        "\n",
        "resposta = a == b;\n",
        "print(resposta);\n",
        "\n",
        "resposta = a != b;\n",
        "print(resposta);"
      ],
      "metadata": {
        "colab": {
          "base_uri": "https://localhost:8080/"
        },
        "id": "FRhK_3O4fD_5",
        "outputId": "fff4eade-1f46-4782-8c1d-776f98b2dc33"
      },
      "execution_count": null,
      "outputs": [
        {
          "output_type": "stream",
          "name": "stdout",
          "text": [
            "False\n",
            "True\n"
          ]
        }
      ]
    },
    {
      "cell_type": "code",
      "source": [
        "frase = \"Olá, mundo!\";\n",
        "print(frase);\n",
        "\n",
        "# Para imprimir um caracter específico, usa-se: variável[índice]\n",
        "print(frase[0]);\n",
        "print(frase[1]);\n",
        "print(frase[2]);"
      ],
      "metadata": {
        "colab": {
          "base_uri": "https://localhost:8080/"
        },
        "id": "h594rQv-g-hY",
        "outputId": "6d303d55-bdab-4c18-b3bc-1d45e0596865"
      },
      "execution_count": null,
      "outputs": [
        {
          "output_type": "stream",
          "name": "stdout",
          "text": [
            "Olá, mundo!\n",
            "O\n",
            "l\n",
            "á\n"
          ]
        }
      ]
    },
    {
      "cell_type": "markdown",
      "source": [
        "MANIPULAÇÕES AVANÇADAS COM STRINGS"
      ],
      "metadata": {
        "id": "1GK69oYPhvdl"
      }
    },
    {
      "cell_type": "code",
      "source": [
        "# Concatenação\n",
        "s1 = \"Lógica de Programação\";\n",
        "s1 = s1 + \" e Algoritmos\";\n",
        "print(s1);"
      ],
      "metadata": {
        "colab": {
          "base_uri": "https://localhost:8080/"
        },
        "id": "NomPw-8WhvMi",
        "outputId": "419b6cf2-e68c-46bb-c932-01056ad7a52b"
      },
      "execution_count": null,
      "outputs": [
        {
          "output_type": "stream",
          "name": "stdout",
          "text": [
            "Lógica de Programação e Algoritmos\n"
          ]
        }
      ]
    },
    {
      "cell_type": "code",
      "source": [
        "# Repetindo strings na concatenação\n",
        "# Pode-se utilizar operações matemáticas, como abaixo:\n",
        "s1 = \"A\" + \"-\" * 10 + \"B\";\n",
        "print(s1);\n",
        "s1 = \"A\" + \" \" * 10 + \"B\";\n",
        "print(s1);"
      ],
      "metadata": {
        "colab": {
          "base_uri": "https://localhost:8080/"
        },
        "id": "dSx_jDFKiEA4",
        "outputId": "0c20207f-32f9-4290-c1a2-f87f18ee35ca"
      },
      "execution_count": null,
      "outputs": [
        {
          "output_type": "stream",
          "name": "stdout",
          "text": [
            "A----------B\n",
            "A          B\n"
          ]
        }
      ]
    },
    {
      "cell_type": "code",
      "source": [
        "# Concatenação: composição por marcador de posição\n",
        "# %d ou %i = números inteiros\n",
        "# %f = float\n",
        "# %s = Strings\n",
        "\n",
        "nota = 8.5;\n",
        "s1 = \"Você tirou %f na disciplina de Algoritmos\" % nota;\n",
        "print(s1);\n",
        "s1 = \"Você tirou %d na disciplina de Algoritmos\" % nota;\n",
        "print(s1);\n",
        "\n",
        "# Limitando casas decimais\n",
        "s1 = \"Você tirou %.2f na disciplina de Algoritmos\" % nota;\n",
        "print(s1);\n",
        "\n",
        "# Exemplo com mais de uma variável\n",
        "disciplina = \"Algoritmos\";\n",
        "s1 = \"Você tirou %.2f na disciplina de %s\" % (nota, disciplina);\n",
        "print(s1);"
      ],
      "metadata": {
        "colab": {
          "base_uri": "https://localhost:8080/"
        },
        "id": "20Xvs7o6idAL",
        "outputId": "872b2bc0-3e4d-4f32-bc97-a5dde9e5d16b"
      },
      "execution_count": null,
      "outputs": [
        {
          "output_type": "stream",
          "name": "stdout",
          "text": [
            "Você tirou 8.500000 na disciplina de Algoritmos\n",
            "Você tirou 8 na disciplina de Algoritmos\n",
            "Você tirou 8.50 na disciplina de Algoritmos\n",
            "Você tirou 8.50 na disciplina de Algoritmos\n"
          ]
        }
      ]
    },
    {
      "cell_type": "code",
      "source": [
        "# Concatenação: composição moderna\n",
        "# Neste modelo não é necessário citar o tipo da variável\n",
        "nota = 8.5;\n",
        "disciplina = \"Algoritmos\";\n",
        "s1 = \"Você tirou {} na disciplina de {}\" .format(nota, disciplina);\n",
        "print(s1);\n",
        "\n",
        "# Para formatar\n",
        "s1 = \"Você tirou {:.2f} na disciplina de {}\" .format(nota, disciplina);\n",
        "print(s1);"
      ],
      "metadata": {
        "colab": {
          "base_uri": "https://localhost:8080/"
        },
        "id": "oJW_fUKvkDnn",
        "outputId": "f824f186-0ff2-4960-a01b-16f8a191b816"
      },
      "execution_count": null,
      "outputs": [
        {
          "output_type": "stream",
          "name": "stdout",
          "text": [
            "Você tirou 8.5 na disciplina de Algoritmos\n",
            "Você tirou 8.50 na disciplina de Algoritmos\n"
          ]
        }
      ]
    },
    {
      "cell_type": "code",
      "source": [
        "# Concatenação: f-strings\n",
        "\n",
        "nota = 8.5;\n",
        "disciplina = \"Algoritmos\";\n",
        "s1 = f\"Você tirou {nota} na disciplina de {disciplina}\";\n",
        "print(s1);\n",
        "\n",
        "# Para formatar\n",
        "s1 = f\"Você tirou {nota:.2f} na disciplina de {disciplina}\";\n",
        "print(s1);"
      ],
      "metadata": {
        "colab": {
          "base_uri": "https://localhost:8080/"
        },
        "id": "7OldER-WkqrR",
        "outputId": "5626c28b-88db-47dd-94f1-523ae1f54c57"
      },
      "execution_count": null,
      "outputs": [
        {
          "output_type": "stream",
          "name": "stdout",
          "text": [
            "Você tirou 8.5 na disciplina de Algoritmos\n",
            "Você tirou 8.50 na disciplina de Algoritmos\n"
          ]
        }
      ]
    },
    {
      "cell_type": "code",
      "source": [
        "# Cadeia de caracteres de uma string\n",
        "# utiliza-se variável[índice_inicial:indice_final + 1]\n",
        "\n",
        "s1 = \"Lógica de Programação e Algoritmos\";\n",
        "print(s1[0:6]);\n",
        "\n",
        "print(s1[24:34]);\n",
        "\n",
        "# Para pegar os caracteres do início até um indice específico\n",
        "# pode-se omitir o início\n",
        "\n",
        "print(s1[:6]);"
      ],
      "metadata": {
        "colab": {
          "base_uri": "https://localhost:8080/"
        },
        "id": "c6IptXmmlCLK",
        "outputId": "ac681362-1924-4071-a06c-cf05bf406e01"
      },
      "execution_count": null,
      "outputs": [
        {
          "output_type": "stream",
          "name": "stdout",
          "text": [
            "Lógica\n",
            "Algoritmos\n",
            "Lógica\n"
          ]
        }
      ]
    },
    {
      "cell_type": "code",
      "source": [
        "# String length\n",
        "# para saber o tamanho de uma string, utiliza-se a função \"len\"\n",
        "\n",
        "s1 = \"Lógica de Programação e Algoritmos\";\n",
        "print(len(s1));"
      ],
      "metadata": {
        "colab": {
          "base_uri": "https://localhost:8080/"
        },
        "id": "WteLINx5l5xv",
        "outputId": "5f51fb51-26ed-4390-9768-8f58c6855e07"
      },
      "execution_count": null,
      "outputs": [
        {
          "output_type": "stream",
          "name": "stdout",
          "text": [
            "34\n"
          ]
        }
      ]
    },
    {
      "cell_type": "markdown",
      "source": [
        "FUNÇÃO DE ENTRADA E FLUXO DE EXECUÇÃO DE PROGRAMA"
      ],
      "metadata": {
        "id": "sMLpzb02mdwu"
      }
    },
    {
      "cell_type": "code",
      "source": [
        "# Função para ler um dado inserido pelo usuário utiliza-se \"input\"\n",
        "# pode-se atribuir o resultado diretamente a uma variável\n",
        "\n",
        "nome = input(\"Qual seu nome?\");\n",
        "print(f\"Olá, {idade}!\");"
      ],
      "metadata": {
        "colab": {
          "base_uri": "https://localhost:8080/"
        },
        "id": "6U4umco0meSr",
        "outputId": "3c3aca6e-1dcf-45e8-a973-130c3b2d7550"
      },
      "execution_count": null,
      "outputs": [
        {
          "output_type": "stream",
          "name": "stdout",
          "text": [
            "Qual seu nome?Paulo\n",
            "Olá, Paulo!\n"
          ]
        }
      ]
    },
    {
      "cell_type": "code",
      "source": [
        "# Os inputs do Python sempre geram Strings\n",
        "# Para transformar em int, deve-se fazer um casting\n",
        "\n",
        "# int = numero inteiro\n",
        "# float = numero decimal\n",
        "\n",
        "nota1 = float(input(\"Qual sua primeira nota na disciplina?\"));\n",
        "nota2 = float(input(\"Qual sua segunda nota na disciplina?\"));\n",
        "nota = (nota1 + nota2) / 2;\n",
        "print(f\"Sua média foi {nota:.2f}\");\n",
        "\n",
        "# se não houvesse o casting acima, o programa apresentaria um erro na linha 9"
      ],
      "metadata": {
        "colab": {
          "base_uri": "https://localhost:8080/"
        },
        "id": "jmBOtvuZnCf9",
        "outputId": "50641a68-8f4e-42be-d502-dc9c2ee7e59a"
      },
      "execution_count": null,
      "outputs": [
        {
          "output_type": "stream",
          "name": "stdout",
          "text": [
            "Qual sua primeira nota na disciplina?8\n",
            "Qual sua segunda nota na disciplina?9\n",
            "Sua média foi 8.50\n"
          ]
        }
      ]
    },
    {
      "cell_type": "code",
      "source": [
        "# Fluxo de execução do programa (teste de mesa)\n",
        "# Teste para verificar funcionamento do programa\n",
        "\n",
        "x = 1;\n",
        "y = 1;\n",
        "z = x + y; #z = 2\n",
        "\n",
        "x = x + 2; #x = 3\n",
        "y = y - 1; #y =0\n",
        "z = x + y; #z = 3\n",
        "\n",
        "x = y + 1; #x = 1\n",
        "y = x - 1; #y = 0\n",
        "z = x + y; #z = 1 (valor que deve ser impresso)\n",
        "\n",
        "print(z);"
      ],
      "metadata": {
        "colab": {
          "base_uri": "https://localhost:8080/"
        },
        "id": "EiFOmHPdoXB3",
        "outputId": "9c7285cc-61b9-494e-bb1d-f4acf623395a"
      },
      "execution_count": null,
      "outputs": [
        {
          "output_type": "stream",
          "name": "stdout",
          "text": [
            "1\n"
          ]
        }
      ]
    },
    {
      "cell_type": "code",
      "source": [
        "# Exercício - Aula 1\n",
        "# Solicite ao usuário 2 números inteiros e imprima sua soma\n",
        "\n",
        "num1 = int(input(\"Digite um número inteiro: \"));\n",
        "num2 = int(input(\"Digite outro número inteiro: \"));\n",
        "\n",
        "resultado = num1 + num2;\n",
        "\n",
        "print(f\"A soma {num1} + {num2} é {resultado}\");"
      ],
      "metadata": {
        "colab": {
          "base_uri": "https://localhost:8080/"
        },
        "id": "b1nrAfNJqyOd",
        "outputId": "31d74e81-bffd-4a7e-f8d6-e04a08820050"
      },
      "execution_count": null,
      "outputs": [
        {
          "output_type": "stream",
          "name": "stdout",
          "text": [
            "Digite um número inteiro: 5\n",
            "Digite outro número inteiro: 12\n",
            "A soma de 5 + 12 é 17\n"
          ]
        }
      ]
    },
    {
      "cell_type": "code",
      "source": [],
      "metadata": {
        "id": "d2QdfkVjtIxd"
      },
      "execution_count": null,
      "outputs": []
    },
    {
      "cell_type": "markdown",
      "source": [
        "# Aula Prática 1"
      ],
      "metadata": {
        "id": "_AsjuxeotRuv"
      }
    },
    {
      "cell_type": "code",
      "source": [
        "# Exercicio Aquecimento - Expressões algébricas\n",
        "\n",
        "# a) O somatório dos 5 primeiros números inteiros e positivos\n",
        "print(1 + 2 + 3 + 4 + 5);\n",
        "\n",
        "# b) A média entre 23, 19 e 31\n",
        "print((23 + 19 + 31) / 3);\n",
        "\n",
        "# c) O numero de vezes que 73 cabe em 403\n",
        "print(403 // 73);\n",
        "# print(int(403/73)) também funciona;\n",
        "\n",
        "# d) A sobra de quando 403 é dividido por 73\n",
        "print(403 % 73);\n",
        "\n",
        "# e) 2 elevado a décima potência\n",
        "print (2 ** 10);\n",
        "\n",
        "# f) o valor absoluto da diferença entre 54 e 57\n",
        "print(abs(54-57));\n",
        "\n",
        "# g) o menor valor entre 34, 29 e 31\n",
        "print(min(54,29,31));"
      ],
      "metadata": {
        "colab": {
          "base_uri": "https://localhost:8080/"
        },
        "id": "J3JQPJbatXv6",
        "outputId": "2bdf0fee-564b-468a-a4f0-41020fd5efed"
      },
      "execution_count": null,
      "outputs": [
        {
          "output_type": "stream",
          "name": "stdout",
          "text": [
            "15\n",
            "24.333333333333332\n",
            "5\n",
            "38\n",
            "1024\n",
            "3\n",
            "29\n"
          ]
        }
      ]
    },
    {
      "cell_type": "code",
      "source": [
        "# Exercício Aquecimento - Atribuição\n",
        "\n",
        "# a) Atribuir o valor inteiro 3 à variável a\n",
        "a = 3;\n",
        "\n",
        "# b) Atribuir o valor inteiro 4 à variável b\n",
        "b = 4;\n",
        "\n",
        "# c) Atribuir à variável c o valor da expressão a*a + b*b\n",
        "c = (a * a) + (b * b);"
      ],
      "metadata": {
        "id": "FbjFv7KWvfzi"
      },
      "execution_count": null,
      "outputs": []
    },
    {
      "cell_type": "code",
      "source": [
        "# Exercícios Aquecimento - Strings\n",
        "\n",
        "# a) Execute as seguintes atribuições:\n",
        "# s1 = \"ant\"\n",
        "s1 = \"ant\";\n",
        "# s2 = \"bat\"\n",
        "s2 = \"bat\";\n",
        "# s3 = \"cod\"\n",
        "s3 = \"cod\";\n",
        "\n",
        "# Agora, usando operadores de concatenação, crie as saídas a seguir:\n",
        "\n",
        "# a) \"ant bat cod\"\n",
        "res = s1 + \" \" + s2 + \" \" + s3;\n",
        "print(res);\n",
        "\n",
        "# b) \"ant ant ant ant ant ant ant ant ant ant\"\n",
        "res = s1 + \" \";\n",
        "print(res * 10);\n",
        "\n",
        "# c) \"ant bat bat cod cod cod\"\n",
        "res = s1 + \" \" + (s2 + \" \") * 2 + (s3 + \" \") * 3;\n",
        "print(res);\n",
        "\n",
        "# d) \"ant bat ant bat ant bat ant bat ant bat ant bat ant bat\"\n",
        "res = (s1 + \" \" + s2 + \" \") * 7;\n",
        "print(res);\n",
        "\n",
        "# e) \"batbatcod batbatcod batbatcod batbatcod batbatcod\"\n",
        "res = (s2 + s2 + s3 + \" \") * 5;\n",
        "print(res);"
      ],
      "metadata": {
        "colab": {
          "base_uri": "https://localhost:8080/"
        },
        "id": "NjcYVhrAwxPn",
        "outputId": "99a290c0-b255-4002-f9a9-9e917edb00dc"
      },
      "execution_count": null,
      "outputs": [
        {
          "output_type": "stream",
          "name": "stdout",
          "text": [
            "ant bat cod\n",
            "ant ant ant ant ant ant ant ant ant ant \n",
            "ant bat bat cod cod cod \n",
            "ant bat ant bat ant bat ant bat ant bat ant bat ant bat \n",
            "batbatcod batbatcod batbatcod batbatcod batbatcod \n"
          ]
        }
      ]
    },
    {
      "cell_type": "code",
      "source": [
        "# Exercício 1\n",
        "\n",
        "#Desenvolva um algoritmo que solicite ao usuário o preço de um produto e um\n",
        "#percentual de desconto a ser aplicado a ele.\n",
        "#Calcule e exibe o valor do desconto e o preço final do produto\n",
        "\n",
        "preco = float(input(\"Informe o preço do produto: \"));\n",
        "desconto = float(input(\"Informe o percentual de desconto (0 a 100): \"));\n",
        "\n",
        "valor_desconto = preco * (desconto / 100);\n",
        "preco_final = preco - valor_desconto;\n",
        "\n",
        "print(f\"Preço inicial do produto: R$ {preco:.2f}\");\n",
        "print(f\"Desconto de {desconto}%, que corresponde ao valor de R$ {valor_desconto:.2f}\");\n",
        "print(f\"Preço final do produto: R$ {preco_final:.2f}\");"
      ],
      "metadata": {
        "colab": {
          "base_uri": "https://localhost:8080/"
        },
        "id": "gt937ne2ziUE",
        "outputId": "7a9a219a-884e-45ed-ee66-3ad249f3482f"
      },
      "execution_count": null,
      "outputs": [
        {
          "output_type": "stream",
          "name": "stdout",
          "text": [
            "Informe o preço do produto: 100\n",
            "Informe o percentual de desconto (0 a 100): 10\n",
            "Preço inicial do produto: R$ 100.00\n",
            "Desconto de 10.0%, que corresponde ao valor de R$ 10.00\n",
            "Preço final do produto: R$ 90.00\n"
          ]
        }
      ]
    },
    {
      "cell_type": "code",
      "source": [
        "# Exercício 2\n",
        "\n",
        "#Escreva um programa que pergunta a quantidade de km percorridos por um carro\n",
        "#alugado pelo usuário, assim como a quantidade de dias pelos quais o carro foi\n",
        "#alugado. Calcule o preço a pagar, sabendo que o carro custa R$ 60 por dia e\n",
        "#R$ 0,15 por km rodado\n",
        "\n",
        "quilometragem = int(input(\"Por favor, informe a quilometragem rodada: \"));\n",
        "dias_alugado = int(input(\"Por favor, informe - em dias - o tempo em que o veículo ficou alugado: \"));\n",
        "\n",
        "valor_total = (quilometragem * 0.15) + (dias_alugado * 60);\n",
        "\n",
        "print(f\"Considerando {dias_alugado} dias de aluguel e {quilometragem} km rodados, o valor a pagar é R$ {valor_total:.2f}\");\n"
      ],
      "metadata": {
        "colab": {
          "base_uri": "https://localhost:8080/"
        },
        "id": "6-SHZO3Q2pOV",
        "outputId": "3832b38e-801a-493b-f638-56e528d39247"
      },
      "execution_count": null,
      "outputs": [
        {
          "output_type": "stream",
          "name": "stdout",
          "text": [
            "Por favor, informe a quilometragem rodada: 100\n",
            "Por favor, informe - em dias - o tempo em que o veículo ficou alugado: 10\n",
            "Considerando 10 dias de aluguel e 100 km rodados, o valor a pagar é R$ 615.00\n"
          ]
        }
      ]
    },
    {
      "cell_type": "code",
      "source": [
        "# Exercício 3\n",
        "\n",
        "#Crie uma String que receba uma variável qualquer. Crie uma segunda variável,\n",
        "#agora contendo a metade da String digitada. Imprima na tela somente os dois\n",
        "#últimos caracteres da variável do tipo String.\n",
        "\n",
        "s1 = input(\"Digite uma frase: \");\n",
        "metade_s1 = (len(s1) // 2);\n",
        "\n",
        "s2 = s1[0:metade_s1]\n",
        "\n",
        "print(s2[-2:]);"
      ],
      "metadata": {
        "colab": {
          "base_uri": "https://localhost:8080/"
        },
        "id": "VEnDsd_V4jcQ",
        "outputId": "3df8bced-b945-4897-bd11-ef8ead95c7d8"
      },
      "execution_count": null,
      "outputs": [
        {
          "output_type": "stream",
          "name": "stdout",
          "text": [
            "Digite uma frase: MaMeMiMo\n",
            "Me\n"
          ]
        }
      ]
    },
    {
      "cell_type": "markdown",
      "source": [
        "# Aula Teórica 2 - Condicionais"
      ],
      "metadata": {
        "id": "3gh54W8lgRem"
      }
    },
    {
      "cell_type": "markdown",
      "source": [
        "CONDICIONAL SIMPLES"
      ],
      "metadata": {
        "id": "fzA6XGVIn82F"
      }
    },
    {
      "cell_type": "code",
      "source": [
        "# Condicional simples\n",
        "\n",
        "#Python não utiliza chaves, o que indica as coisas que estão dentro do IF\n",
        "#é a INDENTAÇÃO\n",
        "\n",
        "num1 = int(input(\"Digite um valor: \"));\n",
        "num2 = int(input(\"Digite outro valor: \"));\n",
        "\n",
        "if(num1 > num2):\n",
        "    print(\"O primeiro número é maior do que o segundo!\");\n",
        "if(num1 < num2):\n",
        "    print(\"O segundo número é maior do que o primeiro!\");"
      ],
      "metadata": {
        "colab": {
          "base_uri": "https://localhost:8080/"
        },
        "id": "4vwzg_vNgoql",
        "outputId": "8e2c784c-4858-4e9c-8eb1-015bccdf510d"
      },
      "execution_count": null,
      "outputs": [
        {
          "output_type": "stream",
          "name": "stdout",
          "text": [
            "Digite um valor: 2\n",
            "Digite outro valor: 5\n",
            "O segundo número é maior do que o primeiro\n"
          ]
        }
      ]
    },
    {
      "cell_type": "markdown",
      "source": [
        "CONDICIONAL COMPOSTA"
      ],
      "metadata": {
        "id": "BzsAFcBHoAmU"
      }
    },
    {
      "cell_type": "code",
      "source": [
        "# Condicional composta\n",
        "\n",
        "#INDENTAÇÃO É CRÍTICA!\n",
        "\n",
        "num1 = int(input(\"Digite um valor: \"));\n",
        "num2 = int(input(\"Digite outro valor: \"));\n",
        "\n",
        "if(num1 > num2):\n",
        "    print(\"O primeiro número é maior do que o segundo!\");\n",
        "else:\n",
        "    print(\"O segundo número é maior do que o primeiro!\");"
      ],
      "metadata": {
        "colab": {
          "base_uri": "https://localhost:8080/"
        },
        "id": "cHklPDHnm8CE",
        "outputId": "c2f68bdf-2663-42a5-87ae-3841a9324252"
      },
      "execution_count": null,
      "outputs": [
        {
          "output_type": "stream",
          "name": "stdout",
          "text": [
            "Digite um valor: 2\n",
            "Digite outro valor: 6\n",
            "O segundo número é maior do que o primeiro!\n"
          ]
        }
      ]
    },
    {
      "cell_type": "code",
      "source": [
        "# Exerício - o número digitado é par ou ímpar?\n",
        "\n",
        "x = int(input(\"Digite um número: \"));\n",
        "\n",
        "if(x % 2 == 0):\n",
        "    print(\"O número digitado é par\");\n",
        "else:\n",
        "    print(\"O número digitado é ímpar\");"
      ],
      "metadata": {
        "colab": {
          "base_uri": "https://localhost:8080/"
        },
        "id": "BX74hM4znN9o",
        "outputId": "4de1ef17-d08f-4007-f724-9d18452f3cc1"
      },
      "execution_count": null,
      "outputs": [
        {
          "output_type": "stream",
          "name": "stdout",
          "text": [
            "Digite um número: 107\n",
            "O número digitado é ímpar\n"
          ]
        }
      ]
    },
    {
      "cell_type": "markdown",
      "source": [
        "EXPRESSÃO LÓGICA E ÁLGEBRA BOOLEANA"
      ],
      "metadata": {
        "id": "vt9jBTGvoJDC"
      }
    },
    {
      "cell_type": "code",
      "source": [
        "# operador not\n",
        "\n",
        "#inverte o valor da variável booleana\n",
        "\n",
        "x = True;\n",
        "print(x);\n",
        "print(not x);"
      ],
      "metadata": {
        "colab": {
          "base_uri": "https://localhost:8080/"
        },
        "id": "kpdfr6rGoP2U",
        "outputId": "b905c629-e445-4bc8-dde9-e22c84fdfad8"
      },
      "execution_count": null,
      "outputs": [
        {
          "output_type": "stream",
          "name": "stdout",
          "text": [
            "True\n",
            "False\n"
          ]
        }
      ]
    },
    {
      "cell_type": "code",
      "source": [
        "# operador and\n",
        "\n",
        "#resulta uma saída True somente ambas variáveis forem True\n",
        "\n",
        "x = False;\n",
        "y = True;\n",
        "print(x);\n",
        "print(y)\n",
        "print(x and y);"
      ],
      "metadata": {
        "colab": {
          "base_uri": "https://localhost:8080/"
        },
        "id": "9IMdHtRjo2iz",
        "outputId": "9b9cf14d-03fd-48fb-f248-954ba01f1a29"
      },
      "execution_count": null,
      "outputs": [
        {
          "output_type": "stream",
          "name": "stdout",
          "text": [
            "False\n",
            "True\n",
            "False\n"
          ]
        }
      ]
    },
    {
      "cell_type": "code",
      "source": [
        "# operador or\n",
        "\n",
        "#resulta uma saída True se apenas uma das variáveis forem True\n",
        "\n",
        "x = False;\n",
        "y = True;\n",
        "print(x);\n",
        "print(y)\n",
        "print(x or y);"
      ],
      "metadata": {
        "colab": {
          "base_uri": "https://localhost:8080/"
        },
        "id": "TIZw68WapNxw",
        "outputId": "c5a9e38a-4bea-4b52-d4c8-bf3dd9132cff"
      },
      "execution_count": null,
      "outputs": [
        {
          "output_type": "stream",
          "name": "stdout",
          "text": [
            "False\n",
            "True\n",
            "True\n"
          ]
        }
      ]
    },
    {
      "cell_type": "code",
      "source": [
        "# Ordem de execução\n",
        "\n",
        "#Primeira avalia a relação, depois executa-se o operador not\n",
        "\n",
        "x = 10;\n",
        "y = 1;\n",
        "\n",
        "#x > y = True\n",
        "res = not x > y;\n",
        "print(res);"
      ],
      "metadata": {
        "colab": {
          "base_uri": "https://localhost:8080/"
        },
        "id": "hByawFuApral",
        "outputId": "689c5c76-6d4c-4101-f724-27cf0a980357"
      },
      "execution_count": null,
      "outputs": [
        {
          "output_type": "stream",
          "name": "stdout",
          "text": [
            "False\n"
          ]
        }
      ]
    },
    {
      "cell_type": "code",
      "source": [
        "x = 10;\n",
        "y = 1;\n",
        "z = 5.5;\n",
        "res = (x > y) and (z == y); #True and False\n",
        "print(res);"
      ],
      "metadata": {
        "colab": {
          "base_uri": "https://localhost:8080/"
        },
        "id": "hB0vpa3VqA45",
        "outputId": "329737ce-f4c4-4ffc-933a-5515102d0c25"
      },
      "execution_count": null,
      "outputs": [
        {
          "output_type": "stream",
          "name": "stdout",
          "text": [
            "False\n"
          ]
        }
      ]
    },
    {
      "cell_type": "code",
      "source": [
        "x = 10;\n",
        "y = 1;\n",
        "z = 5.5;\n",
        "res = (x > y) or not (z == y) and y != y + z / x #1.55\n",
        "#res = True or not False and True\n",
        "#res = True or True and True\n",
        "print(res);"
      ],
      "metadata": {
        "colab": {
          "base_uri": "https://localhost:8080/"
        },
        "id": "HLqWvnGaqJ9J",
        "outputId": "070a73ee-77c3-45b4-b7d8-d081989d6a3c"
      },
      "execution_count": null,
      "outputs": [
        {
          "output_type": "stream",
          "name": "stdout",
          "text": [
            "True\n"
          ]
        }
      ]
    },
    {
      "cell_type": "code",
      "source": [
        "#Exercício\n",
        "\n",
        "#Um aluno para passar de ano precisa ser aprovado em todas as matérias\n",
        "#A média para aprovação é 7, o aluno cursa 3 matérias\n",
        "#Escreva um algoritmo que leia a nota final do aluno e informe se\n",
        "#o aluno passou de ano ou não.\n",
        "\n",
        "mat1 = float(input(\"Digite sua nota final na matéria A: \"));\n",
        "mat2 = float(input(\"Digite sua nota final na matéria B: \"));\n",
        "mat3 = float(input(\"Digite sua nota final na matéria C: \"));\n",
        "\n",
        "\n",
        "if(mat1 >= 7 and mat2 >= 7 and mat3 >= 7):\n",
        "    print(\"O aluno passou de ano!\");\n",
        "else:\n",
        "    print(\"O aluno reprovou de ano.\");"
      ],
      "metadata": {
        "colab": {
          "base_uri": "https://localhost:8080/"
        },
        "id": "9OyPDXYRq2jI",
        "outputId": "6cb2d8bb-7d3c-4071-eac6-516eb4a2cc90"
      },
      "execution_count": null,
      "outputs": [
        {
          "output_type": "stream",
          "name": "stdout",
          "text": [
            "Digite sua nota final na matéria A: 7\n",
            "Digite sua nota final na matéria B: 7\n",
            "Digite sua nota final na matéria C: 7\n",
            "O aluno passou de ano!\n"
          ]
        }
      ]
    },
    {
      "cell_type": "markdown",
      "source": [
        "CONDICIONAIS ANINHADAS"
      ],
      "metadata": {
        "id": "eyp-J8vqskNa"
      }
    },
    {
      "cell_type": "code",
      "source": [
        "# Condicionais aninhadas - inserção de uma condicional dentro da outra\n",
        "\n",
        "#Escreva um algoritmo em que o usuário escolhe se quer comprar maçãs, laranjas\n",
        "#ou bananas. Utilizar um menu (1,2,3) para cada opção. Em seguida, perguntar a\n",
        "#quantidade, calcular o preço total do produto e mostrar na tela.\n",
        "#maça: 2,30 / laranja: 3,60 / banana: 1,85\n",
        "\n",
        "fruta = int(input(f\"Bem-vindo ao Mercadinho do Seu Zé!\\n\"\n",
        "f\"Escolha qual fruta deseja comprar, utilizando o menu abaixo:\\n\"\n",
        "f\"1- Maçã\\n\"\n",
        "f\"2- Laranja\\n\"\n",
        "f\"3- Banana\\n\"\n",
        "f\"Digite o número correspondente: \"));\n",
        "\n",
        "qtde = (int(input(\"Por favor, informe a quantidade que deseja comprar: \")));\n",
        "\n",
        "if(fruta == 1):\n",
        "    print(f\"O valor total a pagar é R${qtde * 2.3:.2f}\");\n",
        "if(fruta == 2):\n",
        "    print(f\"O valor total a pagar é R${qtde * 3.6:.2f}\");\n",
        "if(fruta == 3):\n",
        "    print(f\"O valor total a pagar é R${qtde * 1.85:.2f}\");"
      ],
      "metadata": {
        "colab": {
          "base_uri": "https://localhost:8080/"
        },
        "id": "QBhDJS_DsnUp",
        "outputId": "43d1531d-eae4-49bc-89c3-452a18725e39"
      },
      "execution_count": null,
      "outputs": [
        {
          "output_type": "stream",
          "name": "stdout",
          "text": [
            "Bem-vindo ao Mercadinho do Seu Zé!\n",
            "Escolha qual fruta deseja comprar, utilizando o menu abaixo:\n",
            "1- Maçã\n",
            "2- Laranja\n",
            "3- Banana\n",
            "Digite o número correspondente: 1\n",
            "Por favor, informe a quantidade que deseja comprar: 10\n",
            "O valor total a pagar é R$23.00\n"
          ]
        }
      ]
    },
    {
      "cell_type": "code",
      "source": [
        "#Exercício com aninhamento\n",
        "\n",
        "fruta = int(input(f\"Bem-vindo ao Mercadinho do Seu Zé!\\n\"\n",
        "f\"Escolha qual fruta deseja comprar, utilizando o menu abaixo:\\n\"\n",
        "f\"1- Maçã\\n\"\n",
        "f\"2- Laranja\\n\"\n",
        "f\"3- Banana\\n\"\n",
        "f\"Digite o número correspondente: \"));\n",
        "\n",
        "qtde = (int(input(\"Por favor, informe a quantidade que deseja comprar: \")));\n",
        "\n",
        "if(fruta == 1):\n",
        "    print(f\"O valor total a pagar é R${qtde * 2.3:.2f}\");\n",
        "else:\n",
        "    if(fruta == 2):\n",
        "        print(f\"O valor total a pagar é R${qtde * 3.6:.2f}\");\n",
        "    else:\n",
        "        if(fruta == 3):\n",
        "            print(f\"O valor total a pagar é R${qtde * 1.85:.2f}\");\n",
        "        else:\n",
        "            print(\"Opção inválida!\");"
      ],
      "metadata": {
        "colab": {
          "base_uri": "https://localhost:8080/"
        },
        "id": "AaBkS4cbwNl7",
        "outputId": "1279a0ad-0fe8-45cf-90fd-bcee5dc60300"
      },
      "execution_count": null,
      "outputs": [
        {
          "output_type": "stream",
          "name": "stdout",
          "text": [
            "Bem-vindo ao Mercadinho do Seu Zé!\n",
            "Escolha qual fruta deseja comprar, utilizando o menu abaixo:\n",
            "1- Maçã\n",
            "2- Laranja\n",
            "3- Banana\n",
            "Digite o número correspondente: 3\n",
            "Por favor, informe a quantidade que deseja comprar: 5\n",
            "O valor total a pagar é R$9.25\n"
          ]
        }
      ]
    },
    {
      "cell_type": "markdown",
      "source": [
        "CONDICIONAL DE MÚLTIPLA ESCOLHA (ELIF)"
      ],
      "metadata": {
        "id": "VrWtWS0oxXj5"
      }
    },
    {
      "cell_type": "code",
      "source": [
        "#Resolução do exercício usando elif (else + if)\n",
        "\n",
        "fruta = int(input(f\"Bem-vindo ao Mercadinho do Seu Zé!\\n\"\n",
        "f\"Escolha qual fruta deseja comprar, utilizando o menu abaixo:\\n\"\n",
        "f\"1- Maçã\\n\"\n",
        "f\"2- Laranja\\n\"\n",
        "f\"3- Banana\\n\"\n",
        "f\"Digite o número correspondente: \"));\n",
        "\n",
        "qtde = (int(input(\"Por favor, informe a quantidade que deseja comprar: \")));\n",
        "\n",
        "if(fruta == 1):\n",
        "    print(f\"O valor total a pagar é R${qtde * 2.3:.2f}\");\n",
        "elif(fruta == 2):\n",
        "    print(f\"O valor total a pagar é R${qtde * 3.6:.2f}\");\n",
        "elif(fruta == 3):\n",
        "    print(f\"O valor total a pagar é R${qtde * 1.85:.2f}\");\n",
        "else:\n",
        "    print(\"Opção inválida!\");"
      ],
      "metadata": {
        "id": "bmcPJHpSxXZD"
      },
      "execution_count": null,
      "outputs": []
    },
    {
      "cell_type": "code",
      "source": [
        "#Exercício 2\n",
        "\n",
        "#Escreva um algoritmo que leia um nome e uma idade\n",
        "#Caso o nome digitado seja Vinicius, digite isso na tela\n",
        "#Caso seja usado outro nome, verifique sua idade. Se for menor do que 18,\n",
        "#informe que é menor de idade. Se for maior de 100 anos, informe esta pessoa\n",
        "#possivelmente nao existe\n",
        "\n",
        "nome = input(\"Digite um nome: \");\n",
        "idade = 0;\n",
        "\n",
        "if (nome == \"Vinicius\"):\n",
        "    print(f\"O nome digitado foi {nome}\");\n",
        "elif (nome != \"Vinicius\"):\n",
        "    idade = int(input(\"Digite sua idade: \"));\n",
        "    if (idade < 18):\n",
        "        print(\"Você é menor de idade e, ainda por cima, não é o Vinicius!\");\n",
        "    elif (idade > 100):\n",
        "        print(\"Você não é o Vinicius e, provavelmente, a pessoa informada não existe!\");\n",
        "    else:\n",
        "        print(f\"Apesar de não ser o Vinicius, olá, {nome}!\");"
      ],
      "metadata": {
        "id": "FjgyU7h3xypw",
        "colab": {
          "base_uri": "https://localhost:8080/"
        },
        "outputId": "eba611f2-1aef-4715-9830-0e435f6c05c9"
      },
      "execution_count": null,
      "outputs": [
        {
          "output_type": "stream",
          "name": "stdout",
          "text": [
            "Digite um nome: Paulo\n",
            "Digite sua idade: 31\n",
            "Apesar de não ser o Vinicius, olá, Paulo!\n"
          ]
        }
      ]
    },
    {
      "cell_type": "markdown",
      "source": [
        "# Aula Prática 2"
      ],
      "metadata": {
        "id": "cmUixs5ogcqx"
      }
    },
    {
      "cell_type": "code",
      "source": [
        "# Exercício Aquecimento - Expressões booleanas\n",
        "\n",
        "# a) O somatório de 2 com 2 é menor que 4\n",
        "if (2 + 2 < 4):\n",
        "    print(\"True\");\n",
        "else:\n",
        "    print(\"False\");\n",
        "\n",
        "# b) O valor de 7 // 3 é igual a 1 + 1\n",
        "if(7 // 3 == 1 + 1):\n",
        "    print(\"True\");\n",
        "else:\n",
        "    print(\"False\");\n",
        "\n",
        "# c) A soma de 3 elevado ao quadrado com 4 elevado ao quadadro é igual a 25\n",
        "if(3 ** 2 + 4 ** 2 == 25):\n",
        "    print(\"True\");\n",
        "else:\n",
        "    print(\"False\");\n",
        "\n",
        "# d) A soma de 2, 4 e 6 é maior que 12\n",
        "if(2 + 4 + 6 > 12):\n",
        "    print(\"True\");\n",
        "else:\n",
        "    print(\"False\");\n",
        "\n",
        "# e) 1387 é divisivel por 19\n",
        "if(1387 % 19 == 0):\n",
        "    print(\"True\");\n",
        "else:\n",
        "    print(\"False\");\n",
        "\n",
        "# f) 31 é par\n",
        "if(31 % 2 == 0):\n",
        "    print(\"True\");\n",
        "else:\n",
        "    print(\"False\");\n",
        "\n",
        "# g) o menor valor entre 34, 29 e 31 é menor que 30\n",
        "if(min(34, 29, 31) < 30):\n",
        "    print(\"True\");\n",
        "else:\n",
        "    print(\"False\");"
      ],
      "metadata": {
        "colab": {
          "base_uri": "https://localhost:8080/"
        },
        "id": "JPTwB_8K4122",
        "outputId": "8e76db08-6e59-461a-d574-aff86903e114"
      },
      "execution_count": null,
      "outputs": [
        {
          "output_type": "stream",
          "name": "stdout",
          "text": [
            "False\n",
            "True\n",
            "True\n",
            "False\n",
            "True\n",
            "False\n",
            "True\n"
          ]
        }
      ]
    },
    {
      "cell_type": "markdown",
      "source": [],
      "metadata": {
        "id": "w4ldOafN5kIz"
      }
    },
    {
      "cell_type": "code",
      "source": [
        "# Exercício Aquecimento - Condicional Simples\n",
        "\n",
        "# a) Se idade for maior que 60 imprima \"Você tem direito aos benefícios\"\n",
        "idade = 61\n",
        "if (idade > 60):\n",
        "    print(\"Você tem direito aos benefícios\")\n",
        "\n",
        "# b) Se dano é maior que 10 e escudo é igual a 0, escreva \"Você está morto\"\n",
        "escudo = 0\n",
        "dano = 11\n",
        "\n",
        "if (escudo == 0 and dano > 10):\n",
        "    print(\"Você está morto!\")\n",
        "\n",
        "# c) Se pelo menos uma das variaveis booleanas norte, sul, leste e oeste forem\n",
        "#true escreva \"Você escapou!\"\n",
        "\n",
        "norte = True;\n",
        "sul = False;\n",
        "leste = False;\n",
        "oeste = False;\n",
        "\n",
        "if (norte == True or sul == True or leste == True or oeste == True):\n",
        "    print(\"Você escapou!\")"
      ],
      "metadata": {
        "colab": {
          "base_uri": "https://localhost:8080/"
        },
        "id": "8PF5W75m7yVp",
        "outputId": "86d3ff01-2ccd-4db2-ec68-91340e89da83"
      },
      "execution_count": null,
      "outputs": [
        {
          "output_type": "stream",
          "name": "stdout",
          "text": [
            "Você tem direito aos benefícios\n",
            "Você está morto!\n",
            "Você escapou!\n"
          ]
        }
      ]
    },
    {
      "cell_type": "code",
      "source": [
        "# Exercício Aquecimento - Condicional Composta\n",
        "\n",
        "# a) Se ano é divisível por 4: \"Pode ser ano bissexto\". Caso contrário:\n",
        "#\"definitivamente não é um ano bissexto\"\n",
        "ano = 2000\n",
        "if (ano % 4 == 0):\n",
        "    print(\"Pode ser ano bissexto\");\n",
        "else:\n",
        "    print(\"Definitivamente não é um ano bissexto\")\n",
        "\n",
        "# b) se ambas as variáveis booleanas forem True: \"decida-se\", caso contrário\n",
        "#\"você escolheu um caminho\"\n",
        "var1 = True;\n",
        "var2 = True;\n",
        "\n",
        "if (var1 == var2):\n",
        "    print(\"Decida-se!\");\n",
        "else:\n",
        "    print(\"Você escolheu um caminho!\")"
      ],
      "metadata": {
        "colab": {
          "base_uri": "https://localhost:8080/"
        },
        "id": "o2JxGNWt7yOp",
        "outputId": "76d6d4cd-db3a-417c-a38c-7a05bb3323c8"
      },
      "execution_count": null,
      "outputs": [
        {
          "output_type": "stream",
          "name": "stdout",
          "text": [
            "Pode ser ano bissexto\n",
            "Decida-se!\n"
          ]
        }
      ]
    },
    {
      "cell_type": "code",
      "source": [
        "# Exercício 1\n",
        "\n",
        "#Faça um algoritmo que receba 3 valores, representando os lados de um triângulo\n",
        "#fornecidos pelo usuário. Verique se os valores formam um triângulo e classifi-\n",
        "#que como Equilatero, Isosceles ou Escaleno\n",
        "\n",
        "a = int(input(\"Informe o primeiro lado do triângulo: \"));\n",
        "b = int(input(\"Informe o primeiro lado do triângulo: \"));\n",
        "c = int(input(\"Informe o primeiro lado do triângulo: \"));\n",
        "\n",
        "if (a + b > c and a + c > b and b + c > a and a > 0 and b > 0 and c > 0):\n",
        "    print(\"Os lados formados formam um triângulo!\");\n",
        "    if (a == b and b == c and c == a):\n",
        "        print(\"O triângulo é equilátero\");\n",
        "    elif (a == b or b == c or a == c):\n",
        "        print(\"O triângulo é isósceles\");\n",
        "    elif (a != b and b != c and c != a):\n",
        "        print(\"O triângulo é escaleno\");\n",
        "else:\n",
        "    print(\"Os lados informados não formam um triângulo\");"
      ],
      "metadata": {
        "colab": {
          "base_uri": "https://localhost:8080/"
        },
        "id": "abzKhgWy-ZfU",
        "outputId": "e73596c2-7475-446e-c1ab-6fcbf7d6a938"
      },
      "execution_count": null,
      "outputs": [
        {
          "output_type": "stream",
          "name": "stdout",
          "text": [
            "Informe o primeiro lado do triângulo: 0\n",
            "Informe o primeiro lado do triângulo: 1\n",
            "Informe o primeiro lado do triângulo: 2\n",
            "Os lados informados não formam um triângulo\n"
          ]
        }
      ]
    },
    {
      "cell_type": "code",
      "source": [
        "# Exercício 2\n",
        "\n",
        "# Escreva um algoritmo que leia dois valores e pergunte ao usuário qual operação\n",
        "#realizar. Exiba na tela o resultado da operação desejada\n",
        "\n",
        "num1 = int(input(\"Digite o primeiro número: \"));\n",
        "num2 = int(input(\"Digite o segundo número: \"));\n",
        "\n",
        "op = input(f\"Qual operação deseja realizar?\\n\"\n",
        "f\"Digite + para somar\\n\"\n",
        "f\"Digite - para subtrair\\n\"\n",
        "f\"Digite * para multiplicar\\n\"\n",
        "f\"Digite / para dividir\\n\");\n",
        "\n",
        "if (op == \"+\"):\n",
        "    print(f\"A soma de {num1} com {num2} é igual a {num1 + num2}\");\n",
        "elif (op == \"-\"):\n",
        "    print(f\"A subtração de {num1} com {num2} é igual a {num1 - num2}\");\n",
        "elif (op == \"*\"):\n",
        "    print(f\"A multiplicação de {num1} com {num2} é igual a {num1 * num2}\");\n",
        "elif (op == \"/\"):\n",
        "    print(f\"A divisão de {num1} com {num2} é igual a {num1 / num2}\");"
      ],
      "metadata": {
        "colab": {
          "base_uri": "https://localhost:8080/"
        },
        "id": "GzttO4S8Brjw",
        "outputId": "f99c2fcb-018e-41f5-f422-cb99260f89b1"
      },
      "execution_count": null,
      "outputs": [
        {
          "output_type": "stream",
          "name": "stdout",
          "text": [
            "Digite o primeiro número: 9\n",
            "Digite o segundo número: 3\n",
            "Qual operação deseja realizar?\n",
            "Digite + para somar\n",
            "Digite - para subtrair\n",
            "Digite * para multiplicar\n",
            "Digite / para dividir\n",
            "/\n",
            "A divisão de 9 com 3 é igual a 3.0\n"
          ]
        }
      ]
    },
    {
      "cell_type": "code",
      "source": [
        "# Exercício 3\n",
        "\n",
        "#Escreva um programa que calcule o preço a pagar pela energia eletrica\n",
        "#Pergunte a quantidade kWh consumida e o tipo de instalação\n",
        "#R = residência, I = indústria e C = comércios\n",
        "\n",
        "\n",
        "consumo = int(input(\"Qual a quantidade de energia elétrica consumida em kWh?\"));\n",
        "tipo = input(f\"Qual o tipo de instalação?\\n\"\n",
        "f\"R - Residencial\\n\"\n",
        "f\"C - Comercial\\n\"\n",
        "f\"I - Industrial\\n\");\n",
        "\n",
        "if(tipo == \"R\"):\n",
        "    if (consumo < 500):\n",
        "        print(f\"O total a pagar é R$ {consumo * 0.40}\");\n",
        "    else:\n",
        "        print(f\"O total a pagar é R$ {consumo * 0.65}\");\n",
        "elif(tipo == \"C\"):\n",
        "    if(consumo < 1000):\n",
        "        print(f\"O total a pagar é R$ {consumo * 0.55}\");\n",
        "    else:\n",
        "        print(f\"O total a pagar é R$ {consumo * 0.60}\");\n",
        "elif(tipo == \"I\"):\n",
        "    if (consumo < 5000):\n",
        "        print(f\"O total a pagar é R$ {consumo * 0.55}\");\n",
        "    else:\n",
        "        print(f\"O total a pagar é R$ {consumo * 0.60}\");\n",
        "else:\n",
        "    print(\"Instalação inválida\")"
      ],
      "metadata": {
        "colab": {
          "base_uri": "https://localhost:8080/"
        },
        "id": "kEMdm0NCBrbH",
        "outputId": "39da5d51-cd29-4eba-bb6f-807d0c65a8e9"
      },
      "execution_count": null,
      "outputs": [
        {
          "output_type": "stream",
          "name": "stdout",
          "text": [
            "Qual a quantidade de energia elétrica consumida em kWh?1000\n",
            "Qual o tipo de instalação?\n",
            "R - Residencial\n",
            "C - Comercial\n",
            "I - Industrial\n",
            "K\n",
            "Instalação inválida\n"
          ]
        }
      ]
    },
    {
      "cell_type": "code",
      "source": [],
      "metadata": {
        "id": "SV1i14XYEDEi"
      },
      "execution_count": null,
      "outputs": []
    },
    {
      "cell_type": "markdown",
      "source": [
        "# Trabalho Obrigatório"
      ],
      "metadata": {
        "id": "qDh8x-LMyH_T"
      }
    },
    {
      "cell_type": "code",
      "source": [
        "# Questão 1 de 4\n",
        "\n",
        "#Implementação da mensagem de boas vindas com nome e sobrenome\n",
        "print(\"Bem-vindo a Loja do Paulo Estrela!\")\n",
        "\n",
        "#Foram realizados casting nos inputs, transformando as strings em números\n",
        "#valor_unitário é float, pois os centavos são casas demais\n",
        "valor_unitario = float(input(\"Entre com o valor do produto: \"))\n",
        "#quantidade é número inteiro\n",
        "quantidade = int(input(\"Entre com a quantidade do produto: \"))\n",
        "\n",
        "#Cálculo do valor total a pagar, sem desconto\n",
        "valor_total = valor_unitario * quantidade\n",
        "\n",
        "#Início das condicionais para verificação da aplicação de desconto\n",
        "\n",
        "#Todos os valores foram formatados com \".2f\", exibindo o valor calculado com 2 casas decimais\n",
        "\n",
        "#Se o valor for acima de 10000\n",
        "if valor_total >= 10000:\n",
        "    #Imprime o valor sem desconto\n",
        "    print(f\"O valor SEM desconto: R${valor_total:.2f}\")\n",
        "    #Imprime o valor com desconto de 11%\n",
        "    print(f\"O valor COM desconto: R${valor_total - valor_total * 0.11:.2f}\")\n",
        "#Se o valor for acima de 6000 (if anterior já verificou se o valor é abaixo de 10000)\n",
        "elif valor_total >= 6000:\n",
        "    #Imprime o valor sem desconto\n",
        "    print(f\"O valor SEM desconto: R${valor_total:.2f}\")\n",
        "    #Imprime o valor com desconto de 7%\n",
        "    print(f\"O valor COM desconto: R${valor_total - valor_total * 0.07:.2f}\")\n",
        "#Se o valor for acima de 2500 (elif anterior já verificou se o valor é abaixo de 6000)\n",
        "elif valor_total >= 2500:\n",
        "    #Imprime o valor sem desconto\n",
        "    print(f\"O valor SEM desconto: R${valor_total:.2f}\")\n",
        "    #Imprime o valor com desconto de 4%\n",
        "    print(f\"O valor COM desconto: R${valor_total - valor_total * 0.04:.2f}\")\n",
        "#Caso nenhuma das condições acima sejam atendidas (ou seja, valor abaixo de 2500)\n",
        "else:\n",
        "    #Informa o usuário que não há desconto e imprime o valor sem desconto\n",
        "    print(f\"O valor da compra não dá direito ao desconto, valor total: R${valor_total:.2f}\")"
      ],
      "metadata": {
        "colab": {
          "base_uri": "https://localhost:8080/"
        },
        "id": "t53NjPpRyj_S",
        "outputId": "5f120d73-2b0d-4524-8c30-a071e5ca33e7"
      },
      "execution_count": null,
      "outputs": [
        {
          "output_type": "stream",
          "name": "stdout",
          "text": [
            "Bem-vindo a Loja do Paulo Estrela!\n",
            "Entre com o valor do produto: 20\n",
            "Entre com a quantidade do produto: 5\n",
            "O valor não possui desconto, valor total: R$100.00\n"
          ]
        }
      ]
    },
    {
      "cell_type": "code",
      "source": [
        "#Questão 2 de 4\n",
        "\n",
        "\n",
        "print(\"Bem-vindo a Loja de Açai e Cupuaçu do Paulo Estrela!\\n\")\n",
        "print(\"-\" * 24)\n",
        "print(\"-\" * 3, \"Cardápio Cupuaçu\", \"-\" * 3)\n",
        "print(f\"Tamanho\", \" \" * 3, \"Preço\")\n",
        "print(f\"   P   \", \" \" * 3,\"R$  9.00\")\n",
        "print(f\"   M   \", \" \" * 3,\"R$ 14.00\")\n",
        "print(f\"   G   \", \" \" * 3,\"R$ 18.00\\n\")\n",
        "print(\"-\" * 4, \"Cardápio Açai\", \"-\" * 4)\n",
        "print(f\"Tamanho\", \" \" * 3, \"Preço\")\n",
        "print(f\"   P   \", \" \" * 3,\"R$ 11.00\")\n",
        "print(f\"   M   \", \" \" * 3,\"R$ 16.00\")\n",
        "print(f\"   G   \", \" \" * 3,\"R$ 20.00\")\n",
        "print(\"-\" * 24 + \"\\n\")\n",
        "\n",
        "valor_compras = 0;\n",
        "\n",
        "while True:\n",
        "    sabor = input(\"Entre com o sabor desejado (CP/AC): \").upper()\n",
        "    if (sabor != \"CP\") and (sabor != \"AC\"):\n",
        "        print(\"Sabor inválido. Tente novamente\")\n",
        "        continue\n",
        "\n",
        "    tamanho = input(\"Entre com o tamanho desejado (P/M/G): \").upper()\n",
        "    if (tamanho != \"P\") and (tamanho != \"M\") and (tamanho != \"G\"):\n",
        "        print(\"Tamanho inválido. Tente novamente\")\n",
        "        continue\n",
        "\n",
        "    if (sabor == \"CP\"):\n",
        "        if (tamanho == \"P\"):\n",
        "            valor_compras += (9)\n",
        "            print(f\"Você pediu um Cupuaçu no tamanho P: R$ 9.00\\n\")\n",
        "        elif (tamanho == \"M\"):\n",
        "            valor_compras += (14)\n",
        "            print(f\"Você pediu um Cupuaçu no tamanho M: R$ 14.00\\n\")\n",
        "        else:\n",
        "            valor_compras += (18)\n",
        "            print(f\"Você pediu um Cupuaçu no tamanho G: R$ 18.00\\n\")\n",
        "\n",
        "    if (sabor == \"AC\"):\n",
        "        if (tamanho == \"P\"):\n",
        "            valor_compras += (11)\n",
        "            print(f\"Você pediu um Açai no tamanho P: R$ 11.00\\n\")\n",
        "        elif (tamanho == \"M\"):\n",
        "            valor_compras += (16)\n",
        "            print(f\"Você pediu um Açai no tamanho M: R$ 16.00\\n\")\n",
        "        else:\n",
        "            valor_compras += (20)\n",
        "            print(f\"Você pediu um Açai no tamanho G: R$ 20.00\\n\")\n",
        "\n",
        "    continuar_compras = input(\"Deseja pedir mais alguma coisa? (S/N): \").upper()\n",
        "    if (continuar_compras == \"S\"):\n",
        "        continue\n",
        "    else:\n",
        "        print()\n",
        "        break\n",
        "\n",
        "print(f\"Valor total a ser pago: R$ {valor_compras:.2f}\")\n",
        "print(\"Agradecemos a preferência!\")"
      ],
      "metadata": {
        "colab": {
          "base_uri": "https://localhost:8080/"
        },
        "id": "f3fP7MJ4G6P0",
        "outputId": "d6818ee7-2303-4d60-94e1-5bcdf0591e09"
      },
      "execution_count": null,
      "outputs": [
        {
          "output_type": "stream",
          "name": "stdout",
          "text": [
            "Bem-vindo a Loja de Açai e Cupuaçu do Paulo Estrela!\n",
            "\n",
            "------------------------\n",
            "--- Cardápio Cupuaçu ---\n",
            "Tamanho     Preço\n",
            "   P        R$  9.00\n",
            "   M        R$ 14.00\n",
            "   G        R$ 18.00\n",
            "\n",
            "---- Cardápio Açai ----\n",
            "Tamanho     Preço\n",
            "   P        R$ 11.00\n",
            "   M        R$ 16.00\n",
            "   G        R$ 20.00\n",
            "------------------------\n",
            "\n",
            "Entre com o sabor desejado (CP/AC): cp\n",
            "Entre com o tamanho desejado (P/M/G): p\n",
            "Você pediu um Cupuaçu no tamanho P: R$ 9.00\n",
            "\n",
            "Deseja pedir mais alguma coisa? (S/N): s\n",
            "Entre com o sabor desejado (CP/AC): ac\n",
            "Entre com o tamanho desejado (P/M/G): g\n",
            "Você pediu um Açai no tamanho G: R$ 20.00\n",
            "\n",
            "Deseja pedir mais alguma coisa? (S/N): n\n",
            "\n",
            "Valor total a ser pago: R$ 29.00\n",
            "Agradecemos a preferência!\n"
          ]
        }
      ]
    },
    {
      "cell_type": "markdown",
      "source": [
        "# Aula 4 - Estruturas de Repetição"
      ],
      "metadata": {
        "id": "ShbhYlzS1SHA"
      }
    },
    {
      "cell_type": "markdown",
      "source": [
        "ESTRUTURA DE REPETIÇÃO"
      ],
      "metadata": {
        "id": "Xs5lAU9c2Aco"
      }
    },
    {
      "cell_type": "code",
      "source": [
        "#Todas as estruturas abaixo possuem a mesma resposta, mas alta complexidade\n",
        "#devido altas quantidades de repetição\n",
        "\n",
        "print(1)\n",
        "print(2)\n",
        "print(3)\n",
        "print(4)\n",
        "print(5)\n",
        "\n",
        "x = 1\n",
        "print(x)\n",
        "x = 2\n",
        "print(x)\n",
        "x = 3\n",
        "print(x)\n",
        "x = 4\n",
        "print(x)\n",
        "x = 5\n",
        "print(x)\n",
        "\n",
        "x = 1\n",
        "print(x)\n",
        "x = x + 1\n",
        "print(x)\n",
        "x = x + 1\n",
        "print(x)\n",
        "x = x + 1\n",
        "print(x)\n",
        "x = x + 1\n",
        "print(x)"
      ],
      "metadata": {
        "colab": {
          "base_uri": "https://localhost:8080/"
        },
        "id": "zx5neZgZ1_AB",
        "outputId": "3de0941c-7c09-4393-bd57-bb251df530de"
      },
      "execution_count": null,
      "outputs": [
        {
          "output_type": "stream",
          "name": "stdout",
          "text": [
            "1\n",
            "2\n",
            "3\n",
            "4\n",
            "5\n",
            "1\n",
            "2\n",
            "3\n",
            "4\n",
            "5\n",
            "1\n",
            "2\n",
            "3\n",
            "4\n",
            "5\n"
          ]
        }
      ]
    },
    {
      "cell_type": "markdown",
      "source": [
        "WHILE LOOP"
      ],
      "metadata": {
        "id": "FMyb_znu1fg7"
      }
    },
    {
      "cell_type": "code",
      "source": [
        "#While: repete bloco de instruções enquanto a condição se mantiver verdadeira\n",
        "\n",
        "x = 1\n",
        "while (x <= 5):\n",
        "    print(x)\n",
        "    x += 1\n",
        "\n",
        "# note o tamanho desse código em relação ao exemplo anterior, mesmo resultado\n",
        "\n",
        "#variável de controle, é a variável que define a parada do loop\n",
        "#ela também é conhecida como ITERADOR"
      ],
      "metadata": {
        "colab": {
          "base_uri": "https://localhost:8080/"
        },
        "id": "9aVCl50M1cSu",
        "outputId": "6c916ee5-d5ee-492d-82ab-b357a5eecadb"
      },
      "execution_count": null,
      "outputs": [
        {
          "output_type": "stream",
          "name": "stdout",
          "text": [
            "1\n",
            "2\n",
            "3\n",
            "4\n",
            "5\n"
          ]
        }
      ]
    },
    {
      "cell_type": "code",
      "source": [
        "#Exercicio com contador\n",
        "\n",
        "inicio = int(input(\"Digite o valor de início da contagem: \"))\n",
        "fim = int(input(\"Digite o valor de término da contagem: \"))\n",
        "\n",
        "x = inicio\n",
        "\n",
        "while (x <= fim):\n",
        "    if (x % 2 == 0):\n",
        "        print(x)\n",
        "        x = x + 2\n",
        "    else:\n",
        "        x = x + 1"
      ],
      "metadata": {
        "colab": {
          "base_uri": "https://localhost:8080/"
        },
        "id": "udyKoIu65FA5",
        "outputId": "8973c851-a39a-4788-cff2-fbe580b6f8c6"
      },
      "execution_count": null,
      "outputs": [
        {
          "output_type": "stream",
          "name": "stdout",
          "text": [
            "Digite o valor de início da contagem: 5\n",
            "Digite o valor de término da contagem: 20\n",
            "6\n",
            "8\n",
            "10\n",
            "12\n",
            "14\n",
            "16\n",
            "18\n",
            "20\n"
          ]
        }
      ]
    },
    {
      "cell_type": "code",
      "source": [
        "#Exercicio com contador\n",
        "soma = 0\n",
        "x = 1\n",
        "while (x <= 5):\n",
        "    nota = int(input(f\"Digite sua nota {x} na disciplina: \"))\n",
        "    soma += nota\n",
        "    x = x + 1\n",
        "media = soma / (x - 1)\n",
        "print(media)"
      ],
      "metadata": {
        "colab": {
          "base_uri": "https://localhost:8080/"
        },
        "id": "MSGmfmQf6XyH",
        "outputId": "0142e90e-185f-45e0-b774-193ecc9c8974"
      },
      "execution_count": null,
      "outputs": [
        {
          "output_type": "stream",
          "name": "stdout",
          "text": [
            "Digite sua nota 1 na disciplina: 6\n",
            "Digite sua nota 2 na disciplina: 9\n",
            "Digite sua nota 3 na disciplina: 7\n",
            "Digite sua nota 4 na disciplina: 8\n",
            "Digite sua nota 5 na disciplina: 10\n",
            "8.0\n"
          ]
        }
      ]
    },
    {
      "cell_type": "markdown",
      "source": [
        "TÓPICOS IMPORTANTES DE LOOP EM PYTHON"
      ],
      "metadata": {
        "id": "UuAS5-Nu8Oi_"
      }
    },
    {
      "cell_type": "code",
      "source": [
        "# Operadores especiais de atribuição\n",
        "\n",
        "#   x += 2 é igual a x = x + 2\n",
        "#   x -= 2 é igual a x = x - 2\n",
        "#   x *= 2 é igual a x = x * 2\n",
        "#   x /= 2 é igual a x = x / 2\n",
        "#   x **= 2 é igual a x = x ** 2\n",
        "#   x //= 2 é igual a x = x // 2\n",
        "\n",
        "\n",
        "# repetindo o exercício acima com operador de atribuição\n",
        "\n",
        "#Exercicio com contador\n",
        "soma = 0\n",
        "x = 1\n",
        "while (x <= 5):\n",
        "    nota = int(input(f\"Digite sua nota {x} na disciplina: \"))\n",
        "    soma += nota\n",
        "    x += 1\n",
        "media = soma / (x - 1)\n",
        "print(media)"
      ],
      "metadata": {
        "colab": {
          "base_uri": "https://localhost:8080/"
        },
        "id": "pgUpYhGe8R5j",
        "outputId": "55dabd22-faa1-4a38-ffa8-dff233d57cef"
      },
      "execution_count": null,
      "outputs": [
        {
          "output_type": "stream",
          "name": "stdout",
          "text": [
            "Digite sua nota 1 na disciplina: 6\n",
            "Digite sua nota 2 na disciplina: 7\n",
            "Digite sua nota 3 na disciplina: 9\n",
            "Digite sua nota 4 na disciplina: 8\n",
            "Digite sua nota 5 na disciplina: 10\n",
            "8.0\n"
          ]
        }
      ]
    },
    {
      "cell_type": "code",
      "source": [
        "#Validando dados de entrada\n",
        "\n",
        "#Pode-se utilizar o loop para validar uma entrada do usuário, que deve atender\n",
        "#uma condição\n",
        "\n",
        "x = int(input(\"Digite um valor maior do que zero: \"))\n",
        "while (x <= 0):\n",
        "    x = int(input(\"Digite um valor maior do que zero: \"))\n",
        "print(f\"Você digitou {x}. Encerrando o programa...\")"
      ],
      "metadata": {
        "colab": {
          "base_uri": "https://localhost:8080/"
        },
        "id": "PfNr_Wah9Izs",
        "outputId": "7b75d07f-31c9-445d-cd1d-cf5af6657acd"
      },
      "execution_count": null,
      "outputs": [
        {
          "output_type": "stream",
          "name": "stdout",
          "text": [
            "Digite um valor maior do que zero: -3\n",
            "Digite um valor maior do que zero: 0\n",
            "Digite um valor maior do que zero: -8\n",
            "Digite um valor maior do que zero: 5\n",
            "Você digitou 5. Encerrando programa...\n"
          ]
        }
      ]
    },
    {
      "cell_type": "code",
      "source": [
        "#Instrução break\n",
        "\n",
        "#interrompe o loop quando alguma condição é atendida\n",
        "\n",
        "x = input(\"Digite uma frase ou sair para encerrar o programa: \")\n",
        "\n",
        "while (True):\n",
        "    if (x ==\"sair\"):\n",
        "        break\n",
        "    else:\n",
        "        print(f\"Você digitou: {x}\")\n",
        "        x = input(\"Digite uma frase ou sair para encerrar o programa: \")\n",
        "print(\"Encerrando programa...\")"
      ],
      "metadata": {
        "colab": {
          "base_uri": "https://localhost:8080/"
        },
        "id": "rG124YHJ93kR",
        "outputId": "6bd05b63-6cd0-4c19-ea0a-1f4786108c5c"
      },
      "execution_count": null,
      "outputs": [
        {
          "output_type": "stream",
          "name": "stdout",
          "text": [
            "Digite uma frase ou sair para encerrar o programa: oi\n",
            "Você digitou oi\n",
            "Digite uma frase ou sair para encerrar o programa: ola\n",
            "Você digitou ola\n",
            "Digite uma frase ou sair para encerrar o programa: como\n",
            "Você digitou como\n",
            "Digite uma frase ou sair para encerrar o programa: vamos\n",
            "Você digitou vamos\n",
            "Digite uma frase ou sair para encerrar o programa: fazert\n",
            "Você digitou fazert\n",
            "Digite uma frase ou sair para encerrar o programa: para\n",
            "Você digitou para\n",
            "Digite uma frase ou sair para encerrar o programa: sair\n",
            "Encerrando programa...\n"
          ]
        }
      ]
    },
    {
      "cell_type": "code",
      "source": [
        "#Instrução continue\n",
        "\n",
        "#Reinicia o loop\n",
        "\n",
        "while True:\n",
        "    nome = (input(\"Qual seu nome?\\n\"))\n",
        "    if (nome != \"Paulo\"):\n",
        "        #se o nome for incorreto, retorna ao início do loop\n",
        "        continue\n",
        "    senha = input(\"Qual a sua senha?\\n\")\n",
        "    if (senha == \"12345\"):\n",
        "        break\n",
        "print(\"Acesso concedido!\")"
      ],
      "metadata": {
        "colab": {
          "base_uri": "https://localhost:8080/"
        },
        "id": "qzLtVMwH-_PD",
        "outputId": "b5330f4c-abf7-48e8-fbbe-4c025f83dc72"
      },
      "execution_count": null,
      "outputs": [
        {
          "output_type": "stream",
          "name": "stdout",
          "text": [
            "Qual seu nome?\n",
            "Paulo\n",
            "Qual a sua senha?\n",
            "12345\n",
            "Acesso concedido\n"
          ]
        }
      ]
    },
    {
      "cell_type": "code",
      "source": [
        "#Valores \"Truthy\" e \"Falsey\"\n",
        "\n",
        "#Valores que são tratados comom True ou False mas não são booleanos\n",
        "\n",
        "#Por exemplo: \"0\" e String vazia são considerados como False, ou seja,\n",
        "# são falseys\n",
        "\n",
        "#Truthy = qualquer outro valor\n",
        "\n",
        "\n",
        "nome = \"\"   #\"Falsey\"\n",
        "while not nome: #enquanto NÃO for False\n",
        "    nome = input(\"Digite seu nome:\\n\") #Deixa de ser uma String vazia: \"Truthy\"\n",
        "\n",
        "    valor = int(input(\"Digite um numero qualquer: \"))\n",
        "    if valor: #Equivalante a valor != 0\n",
        "        print(\"Você digitou um valor diferente de zero\")\n",
        "    else:\n",
        "        print(\"Você digitou zero\")"
      ],
      "metadata": {
        "colab": {
          "base_uri": "https://localhost:8080/"
        },
        "id": "RltDBDrE__-8",
        "outputId": "175014de-4a9c-4baf-d5fb-32024fa61ace"
      },
      "execution_count": null,
      "outputs": [
        {
          "output_type": "stream",
          "name": "stdout",
          "text": [
            "Digite seu nomePaulo\n",
            "Digite um numero qualquer: 0\n",
            "Você digitou zero\n"
          ]
        }
      ]
    },
    {
      "cell_type": "markdown",
      "source": [
        "FOR LOOP"
      ],
      "metadata": {
        "id": "zMxcff1jAyfK"
      }
    },
    {
      "cell_type": "code",
      "source": [
        "for i in range (6):\n",
        "    print(i)"
      ],
      "metadata": {
        "colab": {
          "base_uri": "https://localhost:8080/"
        },
        "id": "HvHimL1-A0Bp",
        "outputId": "fff78b35-7df1-405b-cf1f-483cab030bd6"
      },
      "execution_count": null,
      "outputs": [
        {
          "output_type": "stream",
          "name": "stdout",
          "text": [
            "0\n",
            "1\n",
            "2\n",
            "3\n",
            "4\n",
            "5\n"
          ]
        }
      ]
    },
    {
      "cell_type": "code",
      "source": [
        "#0,6,1\n",
        "# 0 = valor de início\n",
        "# 6 = valor final\n",
        "# 1 = incremento\n",
        "for i in range (1,6,1):\n",
        "    print(i)"
      ],
      "metadata": {
        "colab": {
          "base_uri": "https://localhost:8080/"
        },
        "id": "Mtr0zAEFBaf3",
        "outputId": "c1ea481b-38d8-463d-d418-932ce677f3ef"
      },
      "execution_count": null,
      "outputs": [
        {
          "output_type": "stream",
          "name": "stdout",
          "text": [
            "1\n",
            "2\n",
            "3\n",
            "4\n",
            "5\n"
          ]
        }
      ]
    },
    {
      "cell_type": "code",
      "source": [
        "for i in range (10,0,-2):\n",
        "    print(i)"
      ],
      "metadata": {
        "colab": {
          "base_uri": "https://localhost:8080/"
        },
        "id": "IgcM5Qh4B2vp",
        "outputId": "21743877-1b93-4085-9bca-969ab1f7b08a"
      },
      "execution_count": null,
      "outputs": [
        {
          "output_type": "stream",
          "name": "stdout",
          "text": [
            "10\n",
            "8\n",
            "6\n",
            "4\n",
            "2\n"
          ]
        }
      ]
    },
    {
      "cell_type": "code",
      "source": [
        "#loop for pode fazer varredura de strings\n",
        "\n",
        "frase = \"Logica de Programação e Algoritmos\"\n",
        "\n",
        "for i in range (0, len(frase), 1):\n",
        "    print(frase[i])"
      ],
      "metadata": {
        "colab": {
          "base_uri": "https://localhost:8080/"
        },
        "id": "FfsMJ9OeCF3y",
        "outputId": "01c6d516-dd2f-4f6a-b18e-7cfafbf13cfe"
      },
      "execution_count": null,
      "outputs": [
        {
          "output_type": "stream",
          "name": "stdout",
          "text": [
            "L\n",
            "Lo\n",
            "og\n",
            "gi\n",
            "ic\n",
            "ca\n",
            "a \n",
            " d\n",
            "de\n",
            "e \n",
            " P\n",
            "Pr\n",
            "ro\n",
            "og\n",
            "gr\n",
            "ra\n",
            "am\n",
            "ma\n",
            "aç\n",
            "çã\n",
            "ão\n",
            "o \n",
            " e\n",
            "e \n",
            " A\n",
            "Al\n",
            "lg\n",
            "go\n",
            "or\n",
            "ri\n",
            "it\n",
            "tm\n",
            "mo\n",
            "os\n",
            "s"
          ]
        }
      ]
    },
    {
      "cell_type": "code",
      "source": [
        "#comparação while e for\n",
        "\n",
        "x = 1\n",
        "while (x < 6):\n",
        "    print(x)\n",
        "    x = x + 1\n",
        "\n",
        "for i in range (1,6,1):\n",
        "    print(i)"
      ],
      "metadata": {
        "colab": {
          "base_uri": "https://localhost:8080/"
        },
        "id": "Fv5nSse7C2AS",
        "outputId": "55cc93a1-633a-413f-f998-da8e64284ca0"
      },
      "execution_count": null,
      "outputs": [
        {
          "output_type": "stream",
          "name": "stdout",
          "text": [
            "1\n",
            "2\n",
            "3\n",
            "4\n",
            "5\n",
            "1\n",
            "2\n",
            "3\n",
            "4\n",
            "5\n"
          ]
        }
      ]
    },
    {
      "cell_type": "code",
      "source": [
        "#Exercicio\n",
        "\n",
        "#Média de pares de 1 até 100 usando for loop\n",
        "soma = 0\n",
        "for i in range (0, 101, 2):\n",
        "    soma = soma + i\n",
        "\n",
        "print(soma/50)"
      ],
      "metadata": {
        "colab": {
          "base_uri": "https://localhost:8080/"
        },
        "id": "ndW_jACRDfbN",
        "outputId": "a5045f57-4046-4724-bc16-a51d85d298dd"
      },
      "execution_count": null,
      "outputs": [
        {
          "output_type": "stream",
          "name": "stdout",
          "text": [
            "51.0\n"
          ]
        }
      ]
    },
    {
      "cell_type": "code",
      "source": [
        "#resposta professor\n",
        "\n",
        "soma = 0\n",
        "qtd = 0\n",
        "for i in range (1,101):\n",
        "    if(i % 2 == 0):\n",
        "        soma += i\n",
        "        qtd += 1\n",
        "media = soma / qtd\n",
        "print(media)"
      ],
      "metadata": {
        "colab": {
          "base_uri": "https://localhost:8080/"
        },
        "id": "-9fv1VU2D7ID",
        "outputId": "fbf8f83f-6e68-4458-c137-208b6d60909c"
      },
      "execution_count": null,
      "outputs": [
        {
          "output_type": "stream",
          "name": "stdout",
          "text": [
            "51.0\n"
          ]
        }
      ]
    },
    {
      "cell_type": "markdown",
      "source": [
        "LOOPS ANINHADOS"
      ],
      "metadata": {
        "id": "gLfno1EbEOWJ"
      }
    },
    {
      "cell_type": "code",
      "source": [
        "for i in range (1,11):\n",
        "    print(f\"Tabuada do {i}\")\n",
        "    for f in range (0,11):\n",
        "        print(f\"{i} x {f} =\",i * f)"
      ],
      "metadata": {
        "colab": {
          "base_uri": "https://localhost:8080/"
        },
        "id": "2VDBNqpiGDsJ",
        "outputId": "d5e0badd-3334-47ac-e1c7-3ca4c6804bdd"
      },
      "execution_count": null,
      "outputs": [
        {
          "output_type": "stream",
          "name": "stdout",
          "text": [
            "Tabuada do 1\n",
            "1 x 0 = 0\n",
            "1 x 1 = 1\n",
            "1 x 2 = 2\n",
            "1 x 3 = 3\n",
            "1 x 4 = 4\n",
            "1 x 5 = 5\n",
            "1 x 6 = 6\n",
            "1 x 7 = 7\n",
            "1 x 8 = 8\n",
            "1 x 9 = 9\n",
            "1 x 10 = 10\n",
            "Tabuada do 2\n",
            "2 x 0 = 0\n",
            "2 x 1 = 2\n",
            "2 x 2 = 4\n",
            "2 x 3 = 6\n",
            "2 x 4 = 8\n",
            "2 x 5 = 10\n",
            "2 x 6 = 12\n",
            "2 x 7 = 14\n",
            "2 x 8 = 16\n",
            "2 x 9 = 18\n",
            "2 x 10 = 20\n",
            "Tabuada do 3\n",
            "3 x 0 = 0\n",
            "3 x 1 = 3\n",
            "3 x 2 = 6\n",
            "3 x 3 = 9\n",
            "3 x 4 = 12\n",
            "3 x 5 = 15\n",
            "3 x 6 = 18\n",
            "3 x 7 = 21\n",
            "3 x 8 = 24\n",
            "3 x 9 = 27\n",
            "3 x 10 = 30\n",
            "Tabuada do 4\n",
            "4 x 0 = 0\n",
            "4 x 1 = 4\n",
            "4 x 2 = 8\n",
            "4 x 3 = 12\n",
            "4 x 4 = 16\n",
            "4 x 5 = 20\n",
            "4 x 6 = 24\n",
            "4 x 7 = 28\n",
            "4 x 8 = 32\n",
            "4 x 9 = 36\n",
            "4 x 10 = 40\n",
            "Tabuada do 5\n",
            "5 x 0 = 0\n",
            "5 x 1 = 5\n",
            "5 x 2 = 10\n",
            "5 x 3 = 15\n",
            "5 x 4 = 20\n",
            "5 x 5 = 25\n",
            "5 x 6 = 30\n",
            "5 x 7 = 35\n",
            "5 x 8 = 40\n",
            "5 x 9 = 45\n",
            "5 x 10 = 50\n",
            "Tabuada do 6\n",
            "6 x 0 = 0\n",
            "6 x 1 = 6\n",
            "6 x 2 = 12\n",
            "6 x 3 = 18\n",
            "6 x 4 = 24\n",
            "6 x 5 = 30\n",
            "6 x 6 = 36\n",
            "6 x 7 = 42\n",
            "6 x 8 = 48\n",
            "6 x 9 = 54\n",
            "6 x 10 = 60\n",
            "Tabuada do 7\n",
            "7 x 0 = 0\n",
            "7 x 1 = 7\n",
            "7 x 2 = 14\n",
            "7 x 3 = 21\n",
            "7 x 4 = 28\n",
            "7 x 5 = 35\n",
            "7 x 6 = 42\n",
            "7 x 7 = 49\n",
            "7 x 8 = 56\n",
            "7 x 9 = 63\n",
            "7 x 10 = 70\n",
            "Tabuada do 8\n",
            "8 x 0 = 0\n",
            "8 x 1 = 8\n",
            "8 x 2 = 16\n",
            "8 x 3 = 24\n",
            "8 x 4 = 32\n",
            "8 x 5 = 40\n",
            "8 x 6 = 48\n",
            "8 x 7 = 56\n",
            "8 x 8 = 64\n",
            "8 x 9 = 72\n",
            "8 x 10 = 80\n",
            "Tabuada do 9\n",
            "9 x 0 = 0\n",
            "9 x 1 = 9\n",
            "9 x 2 = 18\n",
            "9 x 3 = 27\n",
            "9 x 4 = 36\n",
            "9 x 5 = 45\n",
            "9 x 6 = 54\n",
            "9 x 7 = 63\n",
            "9 x 8 = 72\n",
            "9 x 9 = 81\n",
            "9 x 10 = 90\n",
            "Tabuada do 10\n",
            "10 x 0 = 0\n",
            "10 x 1 = 10\n",
            "10 x 2 = 20\n",
            "10 x 3 = 30\n",
            "10 x 4 = 40\n",
            "10 x 5 = 50\n",
            "10 x 6 = 60\n",
            "10 x 7 = 70\n",
            "10 x 8 = 80\n",
            "10 x 9 = 90\n",
            "10 x 10 = 100\n"
          ]
        }
      ]
    },
    {
      "cell_type": "markdown",
      "source": [
        "# Aula 5 - Funções"
      ],
      "metadata": {
        "id": "xAOX93f8BQoC"
      }
    },
    {
      "cell_type": "markdown",
      "source": [
        "FUNÇÕES"
      ],
      "metadata": {
        "id": "7kWhcf8oBbuI"
      }
    },
    {
      "cell_type": "code",
      "source": [
        "print(\"|\",\"__\" * 10, \"|\")\n",
        "print(\"|\",\"__\" * 10, \"|\")\n",
        "print(\"          MENU\")\n",
        "print(\"|\",\"__\" * 10, \"|\")\n",
        "print(\"|\",\"__\" * 10, \"|\")"
      ],
      "metadata": {
        "colab": {
          "base_uri": "https://localhost:8080/"
        },
        "id": "qxwa9r0eBb3h",
        "outputId": "6291b3da-7c9c-4e1b-a73c-1079ab05cd41"
      },
      "execution_count": 3,
      "outputs": [
        {
          "output_type": "stream",
          "name": "stdout",
          "text": [
            "| ____________________ |\n",
            "| ____________________ |\n",
            "          MENU\n",
            "| ____________________ |\n",
            "| ____________________ |\n"
          ]
        }
      ]
    },
    {
      "cell_type": "code",
      "source": [
        "#para criar uma função usa-se o comando \"def\" de \"definition\"\n",
        "#paranteses são obrigatórios\n",
        "\n",
        "#definição da função \"realce\"\n",
        "def realce():\n",
        "    print(\"|\",\"__\" * 10, \"|\")\n",
        "    print(\"|\",\"__\" * 10, \"|\")\n",
        "\n",
        "#Main\n",
        "realce()\n",
        "print(\"          MENU\")\n",
        "realce()"
      ],
      "metadata": {
        "colab": {
          "base_uri": "https://localhost:8080/"
        },
        "id": "l7_HueuED9kY",
        "outputId": "b6c2e799-f9d9-4142-ecfc-47d569135a3d"
      },
      "execution_count": 8,
      "outputs": [
        {
          "output_type": "stream",
          "name": "stdout",
          "text": [
            "| ____________________ |\n",
            "| ____________________ |\n",
            "          MENU\n",
            "| ____________________ |\n",
            "| ____________________ |\n"
          ]
        }
      ]
    },
    {
      "cell_type": "markdown",
      "source": [
        "PARÂMETROS EM FUNÇÕES"
      ],
      "metadata": {
        "id": "a6xnHEbfCBax"
      }
    },
    {
      "cell_type": "code",
      "source": [
        "#Função com parâmetro\n",
        "\n",
        "def realce(s1):\n",
        "    print(\"|\",\"__\" * 10, \"|\")\n",
        "    print(\"|\",\"__\" * 10, \"|\")\n",
        "    print(s1)\n",
        "    print(\"|\",\"__\" * 10, \"|\")\n",
        "    print(\"|\",\"__\" * 10, \"|\")\n",
        "\n",
        "#Main\n",
        "realce(\"          MENU\")"
      ],
      "metadata": {
        "colab": {
          "base_uri": "https://localhost:8080/"
        },
        "id": "7yeEmaZXE4RU",
        "outputId": "dcd46239-ac6b-43e2-d8b4-0e20271a34a4"
      },
      "execution_count": 10,
      "outputs": [
        {
          "output_type": "stream",
          "name": "stdout",
          "text": [
            "| ____________________ |\n",
            "| ____________________ |\n",
            "          MENU\n",
            "| ____________________ |\n",
            "| ____________________ |\n"
          ]
        }
      ]
    },
    {
      "cell_type": "code",
      "source": [
        "#Função com mais de 1 parâmetro\n",
        "\n",
        "def sub2(x, y):\n",
        "    res = x - y\n",
        "    print(res)\n",
        "\n",
        "sub2(5, 7)"
      ],
      "metadata": {
        "colab": {
          "base_uri": "https://localhost:8080/"
        },
        "id": "n4M4c71cFddk",
        "outputId": "702f2c0d-ce03-4647-c926-e276dd6bdfd0"
      },
      "execution_count": 11,
      "outputs": [
        {
          "output_type": "stream",
          "name": "stdout",
          "text": [
            "-2\n"
          ]
        }
      ]
    },
    {
      "cell_type": "code",
      "source": [
        "#Função com parâmetros opcionais\n",
        "\n",
        "#Se quiser que algum valor seja omitido, deve-se iniciar as variáveis com 0\n",
        "#Se isso nao for feito, a função dará um erro se algum parâmetro estiver ausente\n",
        "\n",
        "def soma3(x = 0, y = 0, z = 0):\n",
        "    res = x + y + z\n",
        "    print(res)\n",
        "\n",
        "soma3(1, 2, 3)\n",
        "soma3(1, 2)\n",
        "soma3(1)\n",
        "soma3()"
      ],
      "metadata": {
        "colab": {
          "base_uri": "https://localhost:8080/"
        },
        "id": "-KB1kd7tFx3P",
        "outputId": "8f6f053c-bccf-4f1d-dda9-dbf31b1e1d39"
      },
      "execution_count": 12,
      "outputs": [
        {
          "output_type": "stream",
          "name": "stdout",
          "text": [
            "6\n",
            "3\n",
            "1\n",
            "0\n"
          ]
        }
      ]
    },
    {
      "cell_type": "code",
      "source": [
        "#Exercicio\n",
        "#Criar uma função que cria uma borda de texto adaptável\n",
        "\n",
        "def borda(s1):\n",
        "    x = len(s1)\n",
        "    print(\"+\" + \"-\" * x + \"+\")\n",
        "    print(\"|\" + s1+ \"|\")\n",
        "    print(\"+\" + \"-\" * x + \"+\")\n",
        "\n",
        "borda(\"Olá, mundo! Agora com borda!\")"
      ],
      "metadata": {
        "colab": {
          "base_uri": "https://localhost:8080/"
        },
        "id": "VwnsehC8GVdr",
        "outputId": "0f048422-c1fb-43b1-bf7a-0c1e8959f530"
      },
      "execution_count": 18,
      "outputs": [
        {
          "output_type": "stream",
          "name": "stdout",
          "text": [
            "+----------------------------+\n",
            "|Olá, mundo! Agora com borda!|\n",
            "+----------------------------+\n"
          ]
        }
      ]
    },
    {
      "cell_type": "markdown",
      "source": [
        "ESCOPO DE VARIÁVEIS"
      ],
      "metadata": {
        "id": "PJDIUXy-CBVT"
      }
    },
    {
      "cell_type": "code",
      "source": [
        "def omelete():\n",
        "    ovos = 12   #variável local, só existe dentro da função\n",
        "\n",
        "omelete()\n",
        "print(ovos)  #erro: está tentando chamar uma variável local em um escopo global"
      ],
      "metadata": {
        "colab": {
          "base_uri": "https://localhost:8080/",
          "height": 182
        },
        "id": "FKjtqeUBHXCB",
        "outputId": "03ce0cc3-1339-470b-f311-697b046bc590"
      },
      "execution_count": 20,
      "outputs": [
        {
          "output_type": "error",
          "ename": "NameError",
          "evalue": "name 'ovos' is not defined",
          "traceback": [
            "\u001b[0;31m---------------------------------------------------------------------------\u001b[0m",
            "\u001b[0;31mNameError\u001b[0m                                 Traceback (most recent call last)",
            "\u001b[0;32m<ipython-input-20-af80cfaf200b>\u001b[0m in \u001b[0;36m<cell line: 0>\u001b[0;34m()\u001b[0m\n\u001b[1;32m      3\u001b[0m \u001b[0;34m\u001b[0m\u001b[0m\n\u001b[1;32m      4\u001b[0m \u001b[0momelete\u001b[0m\u001b[0;34m(\u001b[0m\u001b[0;34m)\u001b[0m\u001b[0;34m\u001b[0m\u001b[0;34m\u001b[0m\u001b[0m\n\u001b[0;32m----> 5\u001b[0;31m \u001b[0mprint\u001b[0m\u001b[0;34m(\u001b[0m\u001b[0movos\u001b[0m\u001b[0;34m)\u001b[0m  \u001b[0;31m#está tentando chamar uma variável local em um escopo global, vai dar erro\u001b[0m\u001b[0;34m\u001b[0m\u001b[0;34m\u001b[0m\u001b[0m\n\u001b[0m",
            "\u001b[0;31mNameError\u001b[0m: name 'ovos' is not defined"
          ]
        }
      ]
    },
    {
      "cell_type": "code",
      "source": [
        "def omelete():\n",
        "    print(ovos)  #variável do escopo global\n",
        "\n",
        "ovos = 12 #variável no escopo global\n",
        "omelete()"
      ],
      "metadata": {
        "colab": {
          "base_uri": "https://localhost:8080/"
        },
        "id": "jarfH1KUIMVw",
        "outputId": "0cde6623-b72a-45ee-fe6c-31cb3736b0b9"
      },
      "execution_count": 24,
      "outputs": [
        {
          "output_type": "stream",
          "name": "stdout",
          "text": [
            "12\n"
          ]
        }
      ]
    },
    {
      "cell_type": "code",
      "source": [
        "def omelete1():\n",
        "    ovos1 = 6 #variável local somente\n",
        "\n",
        "#no escopo global, a variável é setada como 12\n",
        "ovos1 = 12\n",
        "omelete1()\n",
        "print(ovos1)\n",
        "\n",
        "\n",
        "\n",
        "def omelete():\n",
        "    #ao usar o comando \"global\", a variável interna da função acesso a global\n",
        "    #modificando ela pra 6\n",
        "    global ovos\n",
        "    ovos = 6\n",
        "\n",
        "#no escopo global, a variável é setada como 12, contudo, ver acima\n",
        "ovos = 12\n",
        "omelete()\n",
        "print(ovos)"
      ],
      "metadata": {
        "colab": {
          "base_uri": "https://localhost:8080/"
        },
        "id": "CUvoL_scJEjf",
        "outputId": "19f78f36-931b-4f21-f386-8ee34e9cb9d0"
      },
      "execution_count": 25,
      "outputs": [
        {
          "output_type": "stream",
          "name": "stdout",
          "text": [
            "12\n",
            "6\n"
          ]
        }
      ]
    },
    {
      "cell_type": "markdown",
      "source": [
        "RETORNO DE VALORES EM FUNÇÕES"
      ],
      "metadata": {
        "id": "_jOpiOuBCBPn"
      }
    },
    {
      "cell_type": "code",
      "source": [
        "#Conceitos\n",
        "    #Procedimento(procedure): rotina sem retorno (ex.: imprime um dado)\n",
        "    #Função(function): rotina que retorna um dado a quem invocou (return)\n",
        "\n",
        "def soma3(x = 0, y = 0, z = 0):\n",
        "    res = x + y + z\n",
        "    #retorna o valor\n",
        "    return res\n",
        "\n",
        "print(soma3(2,6))"
      ],
      "metadata": {
        "colab": {
          "base_uri": "https://localhost:8080/"
        },
        "id": "y9fXuFa-HXGA",
        "outputId": "1de6b0b4-093c-430d-b6e2-f519888b5176"
      },
      "execution_count": 26,
      "outputs": [
        {
          "output_type": "stream",
          "name": "stdout",
          "text": [
            "8\n"
          ]
        }
      ]
    },
    {
      "cell_type": "code",
      "source": [
        "#Exercicio\n",
        "\n",
        "#Função para validar string, verifica se o tamanho está dentro de uma faixa\n",
        "\n",
        "def valida_string(s1, min, max):\n",
        "    if(len(s1) >= min and len(s1) <= max):\n",
        "        return True\n",
        "    else:\n",
        "        return False\n",
        "\n",
        "print(valida_string(\"Paulo\", 1, 3))\n"
      ],
      "metadata": {
        "colab": {
          "base_uri": "https://localhost:8080/"
        },
        "id": "nhNVsH4VLEDY",
        "outputId": "6d88ab71-1b10-44f6-ac5a-13058751d47b"
      },
      "execution_count": 29,
      "outputs": [
        {
          "output_type": "stream",
          "name": "stdout",
          "text": [
            "False\n"
          ]
        }
      ]
    },
    {
      "cell_type": "markdown",
      "source": [
        "RECURSOS AVANÇADOS COM FUNÇÕES"
      ],
      "metadata": {
        "id": "6gtvfgiPCBJm"
      }
    },
    {
      "cell_type": "code",
      "source": [
        "#Exceções comuns em Python\n",
        "\n",
        "    #ZeroDivisonError: divisão por zero\n",
        "    #ValueError: dado não esperado\n",
        "    #IndexError: ao tentar acessar um índice inválido\n",
        "\n",
        "#Para contornar exceções usa-se \"except\"\n",
        "\n",
        "while True:\n",
        "    #se o try-except, o programa crasha se o usuário não digitar número\n",
        "    try:\n",
        "        x = int(input(\"Digite um número: \"))\n",
        "        break\n",
        "    #bloco try/except, parecido com o try-catch do Java\n",
        "    except ValueError:\n",
        "        print(\"Ops, número inválido, tente novamente\")\n",
        "\n",
        "    #no final, pode-se adicionar \"finally\"\n",
        "    #é um bloco de código que sempre será executado, independente se\n",
        "    #o programa caiu no except\n",
        "\n",
        "\n",
        "    #pode-se usar except sem informar o erro, para tratar erros inespecíficos"
      ],
      "metadata": {
        "colab": {
          "base_uri": "https://localhost:8080/"
        },
        "id": "6_l1eZEbMaCz",
        "outputId": "d0b48dcd-769e-4e93-8e3a-874a85344e7b"
      },
      "execution_count": 35,
      "outputs": [
        {
          "name": "stdout",
          "output_type": "stream",
          "text": [
            "Digite um número: sahjdkh\n",
            "Ops, número inválido, tente novamente\n",
            "Digite um número: 1\n"
          ]
        }
      ]
    },
    {
      "cell_type": "code",
      "source": [
        "#Funções Lambda\n",
        "\n",
        "#função simples, de uma única linha e sem nome\n",
        "\n",
        "# x é o parâmetro\n",
        "res = lambda x: x * x\n",
        "print(res(3))\n",
        "# x e y são os parâmetros\n",
        "soma = lambda x, y: x + y\n",
        "print(soma(3, 5))"
      ],
      "metadata": {
        "colab": {
          "base_uri": "https://localhost:8080/"
        },
        "id": "ItkPxEDXOCHG",
        "outputId": "05246af4-488b-4263-b724-692ca70c1409"
      },
      "execution_count": 37,
      "outputs": [
        {
          "output_type": "stream",
          "name": "stdout",
          "text": [
            "9\n",
            "8\n"
          ]
        }
      ]
    },
    {
      "cell_type": "code",
      "source": [
        "#Exercício\n",
        "\n",
        "#Função lambda que recebe 2 parâmetros\n",
        "#Somar 5 ao primeiro valor e muliplicar ambos\n",
        "#retornar o resultado\n",
        "\n",
        "soma_mult = lambda x, y: (x + 5) * y\n",
        "print(soma_mult(5,10))"
      ],
      "metadata": {
        "colab": {
          "base_uri": "https://localhost:8080/"
        },
        "id": "JIrgDd-HOeQy",
        "outputId": "05c0f89b-e884-43fc-bec2-eee9ac75b97d"
      },
      "execution_count": 41,
      "outputs": [
        {
          "output_type": "stream",
          "name": "stdout",
          "text": [
            "100\n"
          ]
        }
      ]
    }
  ]
}