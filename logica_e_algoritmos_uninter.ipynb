{
  "nbformat": 4,
  "nbformat_minor": 0,
  "metadata": {
    "colab": {
      "provenance": [],
      "authorship_tag": "ABX9TyMrcT9D8ZGtR3pJSVY3Sp+8",
      "include_colab_link": true
    },
    "kernelspec": {
      "name": "python3",
      "display_name": "Python 3"
    },
    "language_info": {
      "name": "python"
    }
  },
  "cells": [
    {
      "cell_type": "markdown",
      "metadata": {
        "id": "view-in-github",
        "colab_type": "text"
      },
      "source": [
        "<a href=\"https://colab.research.google.com/github/Widgz/python_aprendizagem/blob/main/logica_e_algoritmos_uninter.ipynb\" target=\"_parent\"><img src=\"https://colab.research.google.com/assets/colab-badge.svg\" alt=\"Open In Colab\"/></a>"
      ]
    },
    {
      "cell_type": "markdown",
      "source": [
        "HELLO WORLD"
      ],
      "metadata": {
        "id": "xGvnwd_KblYT"
      }
    },
    {
      "cell_type": "code",
      "execution_count": 64,
      "metadata": {
        "colab": {
          "base_uri": "https://localhost:8080/"
        },
        "id": "onW2JGO5aF5T",
        "outputId": "8668240c-c704-4e7f-fac0-f4e8f6ee8553"
      },
      "outputs": [
        {
          "output_type": "stream",
          "name": "stdout",
          "text": [
            "Olá, mundo!\n"
          ]
        }
      ],
      "source": [
        "print(\"Olá, mundo!\");"
      ]
    },
    {
      "cell_type": "markdown",
      "source": [
        "CONCATENAÇÃO"
      ],
      "metadata": {
        "id": "we7PHQwgbpnc"
      }
    },
    {
      "cell_type": "code",
      "source": [
        "# A vírgula é usada para concatenar, ela insere espaços automaticos\n",
        "print(\"A soma de 2 + 3 é\", 2+3);"
      ],
      "metadata": {
        "colab": {
          "base_uri": "https://localhost:8080/"
        },
        "id": "gAjD4joSbspy",
        "outputId": "99fbdfa9-a90e-4c18-aef5-3fb67bce9abd"
      },
      "execution_count": 65,
      "outputs": [
        {
          "output_type": "stream",
          "name": "stdout",
          "text": [
            "A soma de 2 + 3 é 5\n"
          ]
        }
      ]
    },
    {
      "cell_type": "markdown",
      "source": [
        "VARIÁVEIS, DADOS E SEUS TIPOS"
      ],
      "metadata": {
        "id": "mnL-pPSBbPWL"
      }
    },
    {
      "cell_type": "code",
      "source": [
        "# As variáveis não precisam ter seu tipo declarado\n",
        "# O nome da variável não pode iniciar com número\n",
        "nota = 8.5;\n",
        "disciplina = \"Lógica de Programação e Algoritmos\"\n",
        "\n",
        "print(nota);\n",
        "print(disciplina);\n",
        "\n",
        "# Variaveis de nome composto usam o formato:\n",
        "# preco_total   -> tudo minisculo com \"_\" separando"
      ],
      "metadata": {
        "colab": {
          "base_uri": "https://localhost:8080/"
        },
        "id": "uu1d3gopbTU5",
        "outputId": "0ca7d0d9-568c-4736-bd41-79b144ddb896"
      },
      "execution_count": 66,
      "outputs": [
        {
          "output_type": "stream",
          "name": "stdout",
          "text": [
            "8.5\n",
            "Lógica de Programação e Algoritmos\n"
          ]
        }
      ]
    },
    {
      "cell_type": "code",
      "source": [
        "#Variáveis booleanas (True or False)\n",
        "a = 1;\n",
        "b = 5;\n",
        "\n",
        "resposta = a == b;\n",
        "print(resposta);\n",
        "\n",
        "resposta = a != b;\n",
        "print(resposta);"
      ],
      "metadata": {
        "colab": {
          "base_uri": "https://localhost:8080/"
        },
        "id": "FRhK_3O4fD_5",
        "outputId": "7dd9ad26-4743-4ba7-94f0-4244bd9b282f"
      },
      "execution_count": 67,
      "outputs": [
        {
          "output_type": "stream",
          "name": "stdout",
          "text": [
            "False\n",
            "True\n"
          ]
        }
      ]
    },
    {
      "cell_type": "code",
      "source": [
        "frase = \"Olá, mundo!\";\n",
        "print(frase);\n",
        "\n",
        "# Para imprimir um caracter específico, usa-se: variável[índice]\n",
        "print(frase[0]);\n",
        "print(frase[1]);\n",
        "print(frase[2]);"
      ],
      "metadata": {
        "colab": {
          "base_uri": "https://localhost:8080/"
        },
        "id": "h594rQv-g-hY",
        "outputId": "a3386c20-1ae0-43e6-c934-c6d2ba08fae6"
      },
      "execution_count": 68,
      "outputs": [
        {
          "output_type": "stream",
          "name": "stdout",
          "text": [
            "Olá, mundo!\n",
            "O\n",
            "l\n",
            "á\n"
          ]
        }
      ]
    },
    {
      "cell_type": "markdown",
      "source": [
        "MANIPULAÇÕES AVANÇADAS COM STRINGS"
      ],
      "metadata": {
        "id": "1GK69oYPhvdl"
      }
    },
    {
      "cell_type": "code",
      "source": [
        "# Concatenação\n",
        "s1 = \"Lógica de Programação\";\n",
        "s1 = s1 + \" e Algoritmos\";\n",
        "print(s1);"
      ],
      "metadata": {
        "colab": {
          "base_uri": "https://localhost:8080/"
        },
        "id": "NomPw-8WhvMi",
        "outputId": "44fd04ff-b62b-40b5-9f81-b516f2dd14aa"
      },
      "execution_count": 69,
      "outputs": [
        {
          "output_type": "stream",
          "name": "stdout",
          "text": [
            "Lógica de Programação e Algoritmos\n"
          ]
        }
      ]
    },
    {
      "cell_type": "code",
      "source": [
        "# Repetindo strings na concatenação\n",
        "# Pode-se utilizar operações matemáticas, como abaixo:\n",
        "s1 = \"A\" + \"-\" * 10 + \"B\";\n",
        "print(s1);\n",
        "s1 = \"A\" + \" \" * 10 + \"B\";\n",
        "print(s1);"
      ],
      "metadata": {
        "colab": {
          "base_uri": "https://localhost:8080/"
        },
        "id": "dSx_jDFKiEA4",
        "outputId": "a40c2da4-be7e-4e72-b2fa-dec4998a5ef0"
      },
      "execution_count": 70,
      "outputs": [
        {
          "output_type": "stream",
          "name": "stdout",
          "text": [
            "A----------B\n",
            "A          B\n"
          ]
        }
      ]
    },
    {
      "cell_type": "code",
      "source": [
        "# Concatenação: composição por marcador de posição\n",
        "# %d ou %i = números inteiros\n",
        "# %f = float\n",
        "# %s = Strings\n",
        "\n",
        "nota = 8.5;\n",
        "s1 = \"Você tirou %f na disciplina de Algoritmos\" % nota;\n",
        "print(s1);\n",
        "s1 = \"Você tirou %d na disciplina de Algoritmos\" % nota;\n",
        "print(s1);\n",
        "\n",
        "# Limitando casas decimais\n",
        "s1 = \"Você tirou %.2f na disciplina de Algoritmos\" % nota;\n",
        "print(s1);\n",
        "\n",
        "# Exemplo com mais de uma variável\n",
        "disciplina = \"Algoritmos\";\n",
        "s1 = \"Você tirou %.2f na disciplina de %s\" % (nota, disciplina);\n",
        "print(s1);"
      ],
      "metadata": {
        "colab": {
          "base_uri": "https://localhost:8080/"
        },
        "id": "20Xvs7o6idAL",
        "outputId": "3401cdda-8647-438b-ccfb-2380256543c3"
      },
      "execution_count": 71,
      "outputs": [
        {
          "output_type": "stream",
          "name": "stdout",
          "text": [
            "Você tirou 8.500000 na disciplina de Algoritmos\n",
            "Você tirou 8 na disciplina de Algoritmos\n",
            "Você tirou 8.50 na disciplina de Algoritmos\n",
            "Você tirou 8.50 na disciplina de Algoritmos\n"
          ]
        }
      ]
    },
    {
      "cell_type": "code",
      "source": [
        "# Concatenação: composição moderna\n",
        "# Neste modelo não é necessário citar o tipo da variável\n",
        "nota = 8.5;\n",
        "disciplina = \"Algoritmos\";\n",
        "s1 = \"Você tirou {} na disciplina de {}\" .format(nota, disciplina);\n",
        "print(s1);\n",
        "\n",
        "# Para formatar\n",
        "s1 = \"Você tirou {:.2f} na disciplina de {}\" .format(nota, disciplina);\n",
        "print(s1);"
      ],
      "metadata": {
        "colab": {
          "base_uri": "https://localhost:8080/"
        },
        "id": "oJW_fUKvkDnn",
        "outputId": "1852f3a1-9cc8-4647-f873-ff098db6a1a3"
      },
      "execution_count": 72,
      "outputs": [
        {
          "output_type": "stream",
          "name": "stdout",
          "text": [
            "Você tirou 8.5 na disciplina de Algoritmos\n",
            "Você tirou 8.50 na disciplina de Algoritmos\n"
          ]
        }
      ]
    },
    {
      "cell_type": "code",
      "source": [
        "# Concatenação: f-strings\n",
        "\n",
        "nota = 8.5;\n",
        "disciplina = \"Algoritmos\";\n",
        "s1 = f\"Você tirou {nota} na disciplina de {disciplina}\";\n",
        "print(s1);\n",
        "\n",
        "# Para formatar\n",
        "s1 = f\"Você tirou {nota:.2f} na disciplina de {disciplina}\";\n",
        "print(s1);"
      ],
      "metadata": {
        "colab": {
          "base_uri": "https://localhost:8080/"
        },
        "id": "7OldER-WkqrR",
        "outputId": "7bed8efe-ed6a-4bd8-c8ec-2f51e6a252cd"
      },
      "execution_count": 73,
      "outputs": [
        {
          "output_type": "stream",
          "name": "stdout",
          "text": [
            "Você tirou 8.5 na disciplina de Algoritmos\n",
            "Você tirou 8.50 na disciplina de Algoritmos\n"
          ]
        }
      ]
    },
    {
      "cell_type": "code",
      "source": [
        "# Cadeia de caracteres de uma string\n",
        "# utiliza-se variável[índice_inicial:indice_final + 1]\n",
        "\n",
        "s1 = \"Lógica de Programação e Algoritmos\";\n",
        "print(s1[0:6]);\n",
        "\n",
        "print(s1[24:34]);\n",
        "\n",
        "# Para pegar os caracteres do início até um indice específico\n",
        "# pode-se omitir o início\n",
        "\n",
        "print(s1[:6]);"
      ],
      "metadata": {
        "colab": {
          "base_uri": "https://localhost:8080/"
        },
        "id": "c6IptXmmlCLK",
        "outputId": "765e9d43-6d07-443f-823a-ccfb73c23014"
      },
      "execution_count": 74,
      "outputs": [
        {
          "output_type": "stream",
          "name": "stdout",
          "text": [
            "Lógica\n",
            "Algoritmos\n",
            "Lógica\n"
          ]
        }
      ]
    },
    {
      "cell_type": "code",
      "source": [
        "# String length\n",
        "# para saber o tamanho de uma string, utiliza-se a função \"len\"\n",
        "\n",
        "s1 = \"Lógica de Programação e Algoritmos\";\n",
        "print(len(s1));"
      ],
      "metadata": {
        "colab": {
          "base_uri": "https://localhost:8080/"
        },
        "id": "WteLINx5l5xv",
        "outputId": "55331b93-0ee7-4b46-8f2b-59f47450e76b"
      },
      "execution_count": 75,
      "outputs": [
        {
          "output_type": "stream",
          "name": "stdout",
          "text": [
            "34\n"
          ]
        }
      ]
    }
  ]
}