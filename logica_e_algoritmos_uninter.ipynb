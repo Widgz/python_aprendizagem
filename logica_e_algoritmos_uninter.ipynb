{
  "nbformat": 4,
  "nbformat_minor": 0,
  "metadata": {
    "colab": {
      "provenance": [],
      "authorship_tag": "ABX9TyOFetYbkvsNdPQEpytzKmbR",
      "include_colab_link": true
    },
    "kernelspec": {
      "name": "python3",
      "display_name": "Python 3"
    },
    "language_info": {
      "name": "python"
    }
  },
  "cells": [
    {
      "cell_type": "markdown",
      "metadata": {
        "id": "view-in-github",
        "colab_type": "text"
      },
      "source": [
        "<a href=\"https://colab.research.google.com/github/Widgz/python_aprendizagem/blob/main/logica_e_algoritmos_uninter.ipynb\" target=\"_parent\"><img src=\"https://colab.research.google.com/assets/colab-badge.svg\" alt=\"Open In Colab\"/></a>"
      ]
    },
    {
      "cell_type": "markdown",
      "source": [
        "HELLO WORLD"
      ],
      "metadata": {
        "id": "xGvnwd_KblYT"
      }
    },
    {
      "cell_type": "code",
      "execution_count": 12,
      "metadata": {
        "colab": {
          "base_uri": "https://localhost:8080/"
        },
        "id": "onW2JGO5aF5T",
        "outputId": "a9bfd2a9-e13f-4da9-efd1-1236e2803fb6"
      },
      "outputs": [
        {
          "output_type": "stream",
          "name": "stdout",
          "text": [
            "Olá, mundo!\n"
          ]
        }
      ],
      "source": [
        "print(\"Olá, mundo!\");"
      ]
    },
    {
      "cell_type": "markdown",
      "source": [
        "CONCATENAÇÃO"
      ],
      "metadata": {
        "id": "we7PHQwgbpnc"
      }
    },
    {
      "cell_type": "code",
      "source": [
        "# A vírgula é usada para concatenar, ela insere espaços automaticos\n",
        "print(\"A soma de 2 + 3 é\", 2+3);"
      ],
      "metadata": {
        "colab": {
          "base_uri": "https://localhost:8080/"
        },
        "id": "gAjD4joSbspy",
        "outputId": "f1a272af-213c-49e2-aab0-5b701b5e5dc4"
      },
      "execution_count": 13,
      "outputs": [
        {
          "output_type": "stream",
          "name": "stdout",
          "text": [
            "A soma de 2 + 3 é 5\n"
          ]
        }
      ]
    },
    {
      "cell_type": "markdown",
      "source": [
        "VARIÁVEIS, DADOS E SEUS TIPOS"
      ],
      "metadata": {
        "id": "mnL-pPSBbPWL"
      }
    },
    {
      "cell_type": "code",
      "source": [
        "# As variáveis não precisam ter seu tipo declarado\n",
        "# O nome da variável não pode iniciar com número\n",
        "nota = 8.5;\n",
        "disciplina = \"Lógica de Programação e Algoritmos\"\n",
        "\n",
        "print(nota);\n",
        "print(disciplina);\n",
        "\n",
        "# Variaveis de nome composto usam o formato:\n",
        "# preco_total   -> tudo minisculo com \"_\" separando"
      ],
      "metadata": {
        "colab": {
          "base_uri": "https://localhost:8080/"
        },
        "id": "uu1d3gopbTU5",
        "outputId": "5fd34e62-3f2a-40ad-957f-2c16e5e1251c"
      },
      "execution_count": 14,
      "outputs": [
        {
          "output_type": "stream",
          "name": "stdout",
          "text": [
            "8.5\n",
            "Lógica de Programação e Algoritmos\n"
          ]
        }
      ]
    },
    {
      "cell_type": "code",
      "source": [
        "a = 1;\n",
        "b = 5;\n",
        "\n",
        "resposta = a == b;\n",
        "print(resposta);\n",
        "\n",
        "resposta = a != b;\n",
        "print(resposta);"
      ],
      "metadata": {
        "colab": {
          "base_uri": "https://localhost:8080/"
        },
        "id": "FRhK_3O4fD_5",
        "outputId": "d3763464-2b81-441f-83a9-bdced3556aad"
      },
      "execution_count": 16,
      "outputs": [
        {
          "output_type": "stream",
          "name": "stdout",
          "text": [
            "False\n",
            "True\n"
          ]
        }
      ]
    }
  ]
}