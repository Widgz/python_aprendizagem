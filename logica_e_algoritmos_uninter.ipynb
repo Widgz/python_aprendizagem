{
  "nbformat": 4,
  "nbformat_minor": 0,
  "metadata": {
    "colab": {
      "provenance": [],
      "authorship_tag": "ABX9TyNv9aUOKFyQD9RbClXnLVfa",
      "include_colab_link": true
    },
    "kernelspec": {
      "name": "python3",
      "display_name": "Python 3"
    },
    "language_info": {
      "name": "python"
    }
  },
  "cells": [
    {
      "cell_type": "markdown",
      "metadata": {
        "id": "view-in-github",
        "colab_type": "text"
      },
      "source": [
        "<a href=\"https://colab.research.google.com/github/Widgz/python_aprendizagem/blob/main/logica_e_algoritmos_uninter.ipynb\" target=\"_parent\"><img src=\"https://colab.research.google.com/assets/colab-badge.svg\" alt=\"Open In Colab\"/></a>"
      ]
    },
    {
      "cell_type": "markdown",
      "source": [
        "HELLO WORLD"
      ],
      "metadata": {
        "id": "xGvnwd_KblYT"
      }
    },
    {
      "cell_type": "code",
      "execution_count": 17,
      "metadata": {
        "colab": {
          "base_uri": "https://localhost:8080/"
        },
        "id": "onW2JGO5aF5T",
        "outputId": "da821c9a-0682-43f1-d824-309509d0aac6"
      },
      "outputs": [
        {
          "output_type": "stream",
          "name": "stdout",
          "text": [
            "Olá, mundo!\n"
          ]
        }
      ],
      "source": [
        "print(\"Olá, mundo!\");"
      ]
    },
    {
      "cell_type": "markdown",
      "source": [
        "CONCATENAÇÃO"
      ],
      "metadata": {
        "id": "we7PHQwgbpnc"
      }
    },
    {
      "cell_type": "code",
      "source": [
        "# A vírgula é usada para concatenar, ela insere espaços automaticos\n",
        "print(\"A soma de 2 + 3 é\", 2+3);"
      ],
      "metadata": {
        "colab": {
          "base_uri": "https://localhost:8080/"
        },
        "id": "gAjD4joSbspy",
        "outputId": "4e72eb44-df5d-4030-f6d5-61381bb9e7b8"
      },
      "execution_count": 18,
      "outputs": [
        {
          "output_type": "stream",
          "name": "stdout",
          "text": [
            "A soma de 2 + 3 é 5\n"
          ]
        }
      ]
    },
    {
      "cell_type": "markdown",
      "source": [
        "VARIÁVEIS, DADOS E SEUS TIPOS"
      ],
      "metadata": {
        "id": "mnL-pPSBbPWL"
      }
    },
    {
      "cell_type": "code",
      "source": [
        "# As variáveis não precisam ter seu tipo declarado\n",
        "# O nome da variável não pode iniciar com número\n",
        "nota = 8.5;\n",
        "disciplina = \"Lógica de Programação e Algoritmos\"\n",
        "\n",
        "print(nota);\n",
        "print(disciplina);\n",
        "\n",
        "# Variaveis de nome composto usam o formato:\n",
        "# preco_total   -> tudo minisculo com \"_\" separando"
      ],
      "metadata": {
        "colab": {
          "base_uri": "https://localhost:8080/"
        },
        "id": "uu1d3gopbTU5",
        "outputId": "7dc36bc3-5b25-4ba4-889a-9f320033c875"
      },
      "execution_count": 19,
      "outputs": [
        {
          "output_type": "stream",
          "name": "stdout",
          "text": [
            "8.5\n",
            "Lógica de Programação e Algoritmos\n"
          ]
        }
      ]
    },
    {
      "cell_type": "code",
      "source": [
        "a = 1;\n",
        "b = 5;\n",
        "\n",
        "resposta = a == b;\n",
        "print(resposta);\n",
        "\n",
        "resposta = a != b;\n",
        "print(resposta);"
      ],
      "metadata": {
        "colab": {
          "base_uri": "https://localhost:8080/"
        },
        "id": "FRhK_3O4fD_5",
        "outputId": "02641913-5feb-4244-d01a-597f40eb8115"
      },
      "execution_count": 20,
      "outputs": [
        {
          "output_type": "stream",
          "name": "stdout",
          "text": [
            "False\n",
            "True\n"
          ]
        }
      ]
    },
    {
      "cell_type": "code",
      "source": [
        "frase = \"Olá, mundo!\";\n",
        "print(frase);\n",
        "\n",
        "# Para imprimir um caracter específico, usa-se: variável[índice]\n",
        "print(frase[0]);\n",
        "print(frase[1]);\n",
        "print(frase[2]);"
      ],
      "metadata": {
        "colab": {
          "base_uri": "https://localhost:8080/"
        },
        "id": "h594rQv-g-hY",
        "outputId": "0e5d60bd-3e99-4189-9b13-6415fa7279cf"
      },
      "execution_count": 24,
      "outputs": [
        {
          "output_type": "stream",
          "name": "stdout",
          "text": [
            "Olá, mundo!\n",
            "O\n",
            "l\n",
            "á\n"
          ]
        }
      ]
    }
  ]
}