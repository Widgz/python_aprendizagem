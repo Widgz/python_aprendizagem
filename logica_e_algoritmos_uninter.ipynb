{
  "nbformat": 4,
  "nbformat_minor": 0,
  "metadata": {
    "colab": {
      "provenance": [],
      "toc_visible": true,
      "authorship_tag": "ABX9TyMoqN/QYwDuHoSU1sJg0I1I",
      "include_colab_link": true
    },
    "kernelspec": {
      "name": "python3",
      "display_name": "Python 3"
    },
    "language_info": {
      "name": "python"
    }
  },
  "cells": [
    {
      "cell_type": "markdown",
      "metadata": {
        "id": "view-in-github",
        "colab_type": "text"
      },
      "source": [
        "<a href=\"https://colab.research.google.com/github/Widgz/python_aprendizagem/blob/main/logica_e_algoritmos_uninter.ipynb\" target=\"_parent\"><img src=\"https://colab.research.google.com/assets/colab-badge.svg\" alt=\"Open In Colab\"/></a>"
      ]
    },
    {
      "cell_type": "markdown",
      "source": [
        "# Aula Teórica 1 - Comandos básicos"
      ],
      "metadata": {
        "id": "WsL1FCPBtHtB"
      }
    },
    {
      "cell_type": "markdown",
      "source": [
        "HELLO WORLD"
      ],
      "metadata": {
        "id": "xGvnwd_KblYT"
      }
    },
    {
      "cell_type": "code",
      "execution_count": null,
      "metadata": {
        "colab": {
          "base_uri": "https://localhost:8080/"
        },
        "id": "onW2JGO5aF5T",
        "outputId": "ddf5d74c-0874-4216-baf9-1bf60e428330"
      },
      "outputs": [
        {
          "output_type": "stream",
          "name": "stdout",
          "text": [
            "Olá, mundo!\n"
          ]
        }
      ],
      "source": [
        "print(\"Olá, mundo!\");"
      ]
    },
    {
      "cell_type": "markdown",
      "source": [
        "CONCATENAÇÃO"
      ],
      "metadata": {
        "id": "we7PHQwgbpnc"
      }
    },
    {
      "cell_type": "code",
      "source": [
        "# A vírgula é usada para concatenar, ela insere espaços automaticos\n",
        "print(\"A soma de 2 + 3 é\", 2+3);"
      ],
      "metadata": {
        "colab": {
          "base_uri": "https://localhost:8080/"
        },
        "id": "gAjD4joSbspy",
        "outputId": "ac25351b-0950-4b41-fd65-225e21322e49"
      },
      "execution_count": null,
      "outputs": [
        {
          "output_type": "stream",
          "name": "stdout",
          "text": [
            "A soma de 2 + 3 é 5\n"
          ]
        }
      ]
    },
    {
      "cell_type": "markdown",
      "source": [
        "VARIÁVEIS, DADOS E SEUS TIPOS"
      ],
      "metadata": {
        "id": "mnL-pPSBbPWL"
      }
    },
    {
      "cell_type": "code",
      "source": [
        "# As variáveis não precisam ter seu tipo declarado\n",
        "# O nome da variável não pode iniciar com número\n",
        "nota = 8.5;\n",
        "disciplina = \"Lógica de Programação e Algoritmos\"\n",
        "\n",
        "print(nota);\n",
        "print(disciplina);\n",
        "\n",
        "# Variaveis de nome composto usam o formato:\n",
        "# preco_total   -> tudo minisculo com \"_\" separando"
      ],
      "metadata": {
        "colab": {
          "base_uri": "https://localhost:8080/"
        },
        "id": "uu1d3gopbTU5",
        "outputId": "379ef9f9-4141-4fda-df65-add0675f0ca4"
      },
      "execution_count": null,
      "outputs": [
        {
          "output_type": "stream",
          "name": "stdout",
          "text": [
            "8.5\n",
            "Lógica de Programação e Algoritmos\n"
          ]
        }
      ]
    },
    {
      "cell_type": "code",
      "source": [
        "#Variáveis booleanas (True or False)\n",
        "a = 1;\n",
        "b = 5;\n",
        "\n",
        "resposta = a == b;\n",
        "print(resposta);\n",
        "\n",
        "resposta = a != b;\n",
        "print(resposta);"
      ],
      "metadata": {
        "colab": {
          "base_uri": "https://localhost:8080/"
        },
        "id": "FRhK_3O4fD_5",
        "outputId": "fff4eade-1f46-4782-8c1d-776f98b2dc33"
      },
      "execution_count": null,
      "outputs": [
        {
          "output_type": "stream",
          "name": "stdout",
          "text": [
            "False\n",
            "True\n"
          ]
        }
      ]
    },
    {
      "cell_type": "code",
      "source": [
        "frase = \"Olá, mundo!\";\n",
        "print(frase);\n",
        "\n",
        "# Para imprimir um caracter específico, usa-se: variável[índice]\n",
        "print(frase[0]);\n",
        "print(frase[1]);\n",
        "print(frase[2]);"
      ],
      "metadata": {
        "colab": {
          "base_uri": "https://localhost:8080/"
        },
        "id": "h594rQv-g-hY",
        "outputId": "6d303d55-bdab-4c18-b3bc-1d45e0596865"
      },
      "execution_count": null,
      "outputs": [
        {
          "output_type": "stream",
          "name": "stdout",
          "text": [
            "Olá, mundo!\n",
            "O\n",
            "l\n",
            "á\n"
          ]
        }
      ]
    },
    {
      "cell_type": "markdown",
      "source": [
        "MANIPULAÇÕES AVANÇADAS COM STRINGS"
      ],
      "metadata": {
        "id": "1GK69oYPhvdl"
      }
    },
    {
      "cell_type": "code",
      "source": [
        "# Concatenação\n",
        "s1 = \"Lógica de Programação\";\n",
        "s1 = s1 + \" e Algoritmos\";\n",
        "print(s1);"
      ],
      "metadata": {
        "colab": {
          "base_uri": "https://localhost:8080/"
        },
        "id": "NomPw-8WhvMi",
        "outputId": "419b6cf2-e68c-46bb-c932-01056ad7a52b"
      },
      "execution_count": null,
      "outputs": [
        {
          "output_type": "stream",
          "name": "stdout",
          "text": [
            "Lógica de Programação e Algoritmos\n"
          ]
        }
      ]
    },
    {
      "cell_type": "code",
      "source": [
        "# Repetindo strings na concatenação\n",
        "# Pode-se utilizar operações matemáticas, como abaixo:\n",
        "s1 = \"A\" + \"-\" * 10 + \"B\";\n",
        "print(s1);\n",
        "s1 = \"A\" + \" \" * 10 + \"B\";\n",
        "print(s1);"
      ],
      "metadata": {
        "colab": {
          "base_uri": "https://localhost:8080/"
        },
        "id": "dSx_jDFKiEA4",
        "outputId": "0c20207f-32f9-4290-c1a2-f87f18ee35ca"
      },
      "execution_count": null,
      "outputs": [
        {
          "output_type": "stream",
          "name": "stdout",
          "text": [
            "A----------B\n",
            "A          B\n"
          ]
        }
      ]
    },
    {
      "cell_type": "code",
      "source": [
        "# Concatenação: composição por marcador de posição\n",
        "# %d ou %i = números inteiros\n",
        "# %f = float\n",
        "# %s = Strings\n",
        "\n",
        "nota = 8.5;\n",
        "s1 = \"Você tirou %f na disciplina de Algoritmos\" % nota;\n",
        "print(s1);\n",
        "s1 = \"Você tirou %d na disciplina de Algoritmos\" % nota;\n",
        "print(s1);\n",
        "\n",
        "# Limitando casas decimais\n",
        "s1 = \"Você tirou %.2f na disciplina de Algoritmos\" % nota;\n",
        "print(s1);\n",
        "\n",
        "# Exemplo com mais de uma variável\n",
        "disciplina = \"Algoritmos\";\n",
        "s1 = \"Você tirou %.2f na disciplina de %s\" % (nota, disciplina);\n",
        "print(s1);"
      ],
      "metadata": {
        "colab": {
          "base_uri": "https://localhost:8080/"
        },
        "id": "20Xvs7o6idAL",
        "outputId": "872b2bc0-3e4d-4f32-bc97-a5dde9e5d16b"
      },
      "execution_count": null,
      "outputs": [
        {
          "output_type": "stream",
          "name": "stdout",
          "text": [
            "Você tirou 8.500000 na disciplina de Algoritmos\n",
            "Você tirou 8 na disciplina de Algoritmos\n",
            "Você tirou 8.50 na disciplina de Algoritmos\n",
            "Você tirou 8.50 na disciplina de Algoritmos\n"
          ]
        }
      ]
    },
    {
      "cell_type": "code",
      "source": [
        "# Concatenação: composição moderna\n",
        "# Neste modelo não é necessário citar o tipo da variável\n",
        "nota = 8.5;\n",
        "disciplina = \"Algoritmos\";\n",
        "s1 = \"Você tirou {} na disciplina de {}\" .format(nota, disciplina);\n",
        "print(s1);\n",
        "\n",
        "# Para formatar\n",
        "s1 = \"Você tirou {:.2f} na disciplina de {}\" .format(nota, disciplina);\n",
        "print(s1);"
      ],
      "metadata": {
        "colab": {
          "base_uri": "https://localhost:8080/"
        },
        "id": "oJW_fUKvkDnn",
        "outputId": "f824f186-0ff2-4960-a01b-16f8a191b816"
      },
      "execution_count": null,
      "outputs": [
        {
          "output_type": "stream",
          "name": "stdout",
          "text": [
            "Você tirou 8.5 na disciplina de Algoritmos\n",
            "Você tirou 8.50 na disciplina de Algoritmos\n"
          ]
        }
      ]
    },
    {
      "cell_type": "code",
      "source": [
        "# Concatenação: f-strings\n",
        "\n",
        "nota = 8.5;\n",
        "disciplina = \"Algoritmos\";\n",
        "s1 = f\"Você tirou {nota} na disciplina de {disciplina}\";\n",
        "print(s1);\n",
        "\n",
        "# Para formatar\n",
        "s1 = f\"Você tirou {nota:.2f} na disciplina de {disciplina}\";\n",
        "print(s1);"
      ],
      "metadata": {
        "colab": {
          "base_uri": "https://localhost:8080/"
        },
        "id": "7OldER-WkqrR",
        "outputId": "5626c28b-88db-47dd-94f1-523ae1f54c57"
      },
      "execution_count": null,
      "outputs": [
        {
          "output_type": "stream",
          "name": "stdout",
          "text": [
            "Você tirou 8.5 na disciplina de Algoritmos\n",
            "Você tirou 8.50 na disciplina de Algoritmos\n"
          ]
        }
      ]
    },
    {
      "cell_type": "code",
      "source": [
        "# Cadeia de caracteres de uma string\n",
        "# utiliza-se variável[índice_inicial:indice_final + 1]\n",
        "\n",
        "s1 = \"Lógica de Programação e Algoritmos\";\n",
        "print(s1[0:6]);\n",
        "\n",
        "print(s1[24:34]);\n",
        "\n",
        "# Para pegar os caracteres do início até um indice específico\n",
        "# pode-se omitir o início\n",
        "\n",
        "print(s1[:6]);"
      ],
      "metadata": {
        "colab": {
          "base_uri": "https://localhost:8080/"
        },
        "id": "c6IptXmmlCLK",
        "outputId": "ac681362-1924-4071-a06c-cf05bf406e01"
      },
      "execution_count": null,
      "outputs": [
        {
          "output_type": "stream",
          "name": "stdout",
          "text": [
            "Lógica\n",
            "Algoritmos\n",
            "Lógica\n"
          ]
        }
      ]
    },
    {
      "cell_type": "code",
      "source": [
        "# String length\n",
        "# para saber o tamanho de uma string, utiliza-se a função \"len\"\n",
        "\n",
        "s1 = \"Lógica de Programação e Algoritmos\";\n",
        "print(len(s1));"
      ],
      "metadata": {
        "colab": {
          "base_uri": "https://localhost:8080/"
        },
        "id": "WteLINx5l5xv",
        "outputId": "5f51fb51-26ed-4390-9768-8f58c6855e07"
      },
      "execution_count": null,
      "outputs": [
        {
          "output_type": "stream",
          "name": "stdout",
          "text": [
            "34\n"
          ]
        }
      ]
    },
    {
      "cell_type": "markdown",
      "source": [
        "FUNÇÃO DE ENTRADA E FLUXO DE EXECUÇÃO DE PROGRAMA"
      ],
      "metadata": {
        "id": "sMLpzb02mdwu"
      }
    },
    {
      "cell_type": "code",
      "source": [
        "# Função para ler um dado inserido pelo usuário utiliza-se \"input\"\n",
        "# pode-se atribuir o resultado diretamente a uma variável\n",
        "\n",
        "nome = input(\"Qual seu nome?\");\n",
        "print(f\"Olá, {idade}!\");"
      ],
      "metadata": {
        "colab": {
          "base_uri": "https://localhost:8080/"
        },
        "id": "6U4umco0meSr",
        "outputId": "3c3aca6e-1dcf-45e8-a973-130c3b2d7550"
      },
      "execution_count": null,
      "outputs": [
        {
          "output_type": "stream",
          "name": "stdout",
          "text": [
            "Qual seu nome?Paulo\n",
            "Olá, Paulo!\n"
          ]
        }
      ]
    },
    {
      "cell_type": "code",
      "source": [
        "# Os inputs do Python sempre geram Strings\n",
        "# Para transformar em int, deve-se fazer um casting\n",
        "\n",
        "# int = numero inteiro\n",
        "# float = numero decimal\n",
        "\n",
        "nota1 = float(input(\"Qual sua primeira nota na disciplina?\"));\n",
        "nota2 = float(input(\"Qual sua segunda nota na disciplina?\"));\n",
        "nota = (nota1 + nota2) / 2;\n",
        "print(f\"Sua média foi {nota:.2f}\");\n",
        "\n",
        "# se não houvesse o casting acima, o programa apresentaria um erro na linha 9"
      ],
      "metadata": {
        "colab": {
          "base_uri": "https://localhost:8080/"
        },
        "id": "jmBOtvuZnCf9",
        "outputId": "50641a68-8f4e-42be-d502-dc9c2ee7e59a"
      },
      "execution_count": null,
      "outputs": [
        {
          "output_type": "stream",
          "name": "stdout",
          "text": [
            "Qual sua primeira nota na disciplina?8\n",
            "Qual sua segunda nota na disciplina?9\n",
            "Sua média foi 8.50\n"
          ]
        }
      ]
    },
    {
      "cell_type": "code",
      "source": [
        "# Fluxo de execução do programa (teste de mesa)\n",
        "# Teste para verificar funcionamento do programa\n",
        "\n",
        "x = 1;\n",
        "y = 1;\n",
        "z = x + y; #z = 2\n",
        "\n",
        "x = x + 2; #x = 3\n",
        "y = y - 1; #y =0\n",
        "z = x + y; #z = 3\n",
        "\n",
        "x = y + 1; #x = 1\n",
        "y = x - 1; #y = 0\n",
        "z = x + y; #z = 1 (valor que deve ser impresso)\n",
        "\n",
        "print(z);"
      ],
      "metadata": {
        "colab": {
          "base_uri": "https://localhost:8080/"
        },
        "id": "EiFOmHPdoXB3",
        "outputId": "9c7285cc-61b9-494e-bb1d-f4acf623395a"
      },
      "execution_count": null,
      "outputs": [
        {
          "output_type": "stream",
          "name": "stdout",
          "text": [
            "1\n"
          ]
        }
      ]
    },
    {
      "cell_type": "code",
      "source": [
        "# Exercício - Aula 1\n",
        "# Solicite ao usuário 2 números inteiros e imprima sua soma\n",
        "\n",
        "num1 = int(input(\"Digite um número inteiro: \"));\n",
        "num2 = int(input(\"Digite outro número inteiro: \"));\n",
        "\n",
        "resultado = num1 + num2;\n",
        "\n",
        "print(f\"A soma {num1} + {num2} é {resultado}\");"
      ],
      "metadata": {
        "colab": {
          "base_uri": "https://localhost:8080/"
        },
        "id": "b1nrAfNJqyOd",
        "outputId": "31d74e81-bffd-4a7e-f8d6-e04a08820050"
      },
      "execution_count": null,
      "outputs": [
        {
          "output_type": "stream",
          "name": "stdout",
          "text": [
            "Digite um número inteiro: 5\n",
            "Digite outro número inteiro: 12\n",
            "A soma de 5 + 12 é 17\n"
          ]
        }
      ]
    },
    {
      "cell_type": "code",
      "source": [],
      "metadata": {
        "id": "d2QdfkVjtIxd"
      },
      "execution_count": null,
      "outputs": []
    },
    {
      "cell_type": "markdown",
      "source": [
        "# Aula Prática 1"
      ],
      "metadata": {
        "id": "_AsjuxeotRuv"
      }
    },
    {
      "cell_type": "code",
      "source": [
        "# Exercicio Aquecimento - Expressões algébricas\n",
        "\n",
        "# a) O somatório dos 5 primeiros números inteiros e positivos\n",
        "print(1 + 2 + 3 + 4 + 5);\n",
        "\n",
        "# b) A média entre 23, 19 e 31\n",
        "print((23 + 19 + 31) / 3);\n",
        "\n",
        "# c) O numero de vezes que 73 cabe em 403\n",
        "print(403 // 73);\n",
        "# print(int(403/73)) também funciona;\n",
        "\n",
        "# d) A sobra de quando 403 é dividido por 73\n",
        "print(403 % 73);\n",
        "\n",
        "# e) 2 elevado a décima potência\n",
        "print (2 ** 10);\n",
        "\n",
        "# f) o valor absoluto da diferença entre 54 e 57\n",
        "print(abs(54-57));\n",
        "\n",
        "# g) o menor valor entre 34, 29 e 31\n",
        "print(min(54,29,31));"
      ],
      "metadata": {
        "colab": {
          "base_uri": "https://localhost:8080/"
        },
        "id": "J3JQPJbatXv6",
        "outputId": "2bdf0fee-564b-468a-a4f0-41020fd5efed"
      },
      "execution_count": null,
      "outputs": [
        {
          "output_type": "stream",
          "name": "stdout",
          "text": [
            "15\n",
            "24.333333333333332\n",
            "5\n",
            "38\n",
            "1024\n",
            "3\n",
            "29\n"
          ]
        }
      ]
    },
    {
      "cell_type": "code",
      "source": [
        "# Exercício Aquecimento - Atribuição\n",
        "\n",
        "# a) Atribuir o valor inteiro 3 à variável a\n",
        "a = 3;\n",
        "\n",
        "# b) Atribuir o valor inteiro 4 à variável b\n",
        "b = 4;\n",
        "\n",
        "# c) Atribuir à variável c o valor da expressão a*a + b*b\n",
        "c = (a * a) + (b * b);"
      ],
      "metadata": {
        "id": "FbjFv7KWvfzi"
      },
      "execution_count": null,
      "outputs": []
    },
    {
      "cell_type": "code",
      "source": [
        "# Exercícios Aquecimento - Strings\n",
        "\n",
        "# a) Execute as seguintes atribuições:\n",
        "# s1 = \"ant\"\n",
        "s1 = \"ant\";\n",
        "# s2 = \"bat\"\n",
        "s2 = \"bat\";\n",
        "# s3 = \"cod\"\n",
        "s3 = \"cod\";\n",
        "\n",
        "# Agora, usando operadores de concatenação, crie as saídas a seguir:\n",
        "\n",
        "# a) \"ant bat cod\"\n",
        "res = s1 + \" \" + s2 + \" \" + s3;\n",
        "print(res);\n",
        "\n",
        "# b) \"ant ant ant ant ant ant ant ant ant ant\"\n",
        "res = s1 + \" \";\n",
        "print(res * 10);\n",
        "\n",
        "# c) \"ant bat bat cod cod cod\"\n",
        "res = s1 + \" \" + (s2 + \" \") * 2 + (s3 + \" \") * 3;\n",
        "print(res);\n",
        "\n",
        "# d) \"ant bat ant bat ant bat ant bat ant bat ant bat ant bat\"\n",
        "res = (s1 + \" \" + s2 + \" \") * 7;\n",
        "print(res);\n",
        "\n",
        "# e) \"batbatcod batbatcod batbatcod batbatcod batbatcod\"\n",
        "res = (s2 + s2 + s3 + \" \") * 5;\n",
        "print(res);"
      ],
      "metadata": {
        "colab": {
          "base_uri": "https://localhost:8080/"
        },
        "id": "NjcYVhrAwxPn",
        "outputId": "99a290c0-b255-4002-f9a9-9e917edb00dc"
      },
      "execution_count": null,
      "outputs": [
        {
          "output_type": "stream",
          "name": "stdout",
          "text": [
            "ant bat cod\n",
            "ant ant ant ant ant ant ant ant ant ant \n",
            "ant bat bat cod cod cod \n",
            "ant bat ant bat ant bat ant bat ant bat ant bat ant bat \n",
            "batbatcod batbatcod batbatcod batbatcod batbatcod \n"
          ]
        }
      ]
    },
    {
      "cell_type": "code",
      "source": [
        "# Exercício 1\n",
        "\n",
        "#Desenvolva um algoritmo que solicite ao usuário o preço de um produto e um\n",
        "#percentual de desconto a ser aplicado a ele.\n",
        "#Calcule e exibe o valor do desconto e o preço final do produto\n",
        "\n",
        "preco = float(input(\"Informe o preço do produto: \"));\n",
        "desconto = float(input(\"Informe o percentual de desconto (0 a 100): \"));\n",
        "\n",
        "valor_desconto = preco * (desconto / 100);\n",
        "preco_final = preco - valor_desconto;\n",
        "\n",
        "print(f\"Preço inicial do produto: R$ {preco:.2f}\");\n",
        "print(f\"Desconto de {desconto}%, que corresponde ao valor de R$ {valor_desconto:.2f}\");\n",
        "print(f\"Preço final do produto: R$ {preco_final:.2f}\");"
      ],
      "metadata": {
        "colab": {
          "base_uri": "https://localhost:8080/"
        },
        "id": "gt937ne2ziUE",
        "outputId": "7a9a219a-884e-45ed-ee66-3ad249f3482f"
      },
      "execution_count": null,
      "outputs": [
        {
          "output_type": "stream",
          "name": "stdout",
          "text": [
            "Informe o preço do produto: 100\n",
            "Informe o percentual de desconto (0 a 100): 10\n",
            "Preço inicial do produto: R$ 100.00\n",
            "Desconto de 10.0%, que corresponde ao valor de R$ 10.00\n",
            "Preço final do produto: R$ 90.00\n"
          ]
        }
      ]
    },
    {
      "cell_type": "code",
      "source": [
        "# Exercício 2\n",
        "\n",
        "#Escreva um programa que pergunta a quantidade de km percorridos por um carro\n",
        "#alugado pelo usuário, assim como a quantidade de dias pelos quais o carro foi\n",
        "#alugado. Calcule o preço a pagar, sabendo que o carro custa R$ 60 por dia e\n",
        "#R$ 0,15 por km rodado\n",
        "\n",
        "quilometragem = int(input(\"Por favor, informe a quilometragem rodada: \"));\n",
        "dias_alugado = int(input(\"Por favor, informe - em dias - o tempo em que o veículo ficou alugado: \"));\n",
        "\n",
        "valor_total = (quilometragem * 0.15) + (dias_alugado * 60);\n",
        "\n",
        "print(f\"Considerando {dias_alugado} dias de aluguel e {quilometragem} km rodados, o valor a pagar é R$ {valor_total:.2f}\");\n"
      ],
      "metadata": {
        "colab": {
          "base_uri": "https://localhost:8080/"
        },
        "id": "6-SHZO3Q2pOV",
        "outputId": "3832b38e-801a-493b-f638-56e528d39247"
      },
      "execution_count": null,
      "outputs": [
        {
          "output_type": "stream",
          "name": "stdout",
          "text": [
            "Por favor, informe a quilometragem rodada: 100\n",
            "Por favor, informe - em dias - o tempo em que o veículo ficou alugado: 10\n",
            "Considerando 10 dias de aluguel e 100 km rodados, o valor a pagar é R$ 615.00\n"
          ]
        }
      ]
    },
    {
      "cell_type": "code",
      "source": [
        "# Exercício 3\n",
        "\n",
        "#Crie uma String que receba uma variável qualquer. Crie uma segunda variável,\n",
        "#agora contendo a metade da String digitada. Imprima na tela somente os dois\n",
        "#últimos caracteres da variável do tipo String.\n",
        "\n",
        "s1 = input(\"Digite uma frase: \");\n",
        "metade_s1 = (len(s1) // 2);\n",
        "\n",
        "s2 = s1[0:metade_s1]\n",
        "\n",
        "print(s2[-2:]);"
      ],
      "metadata": {
        "colab": {
          "base_uri": "https://localhost:8080/"
        },
        "id": "VEnDsd_V4jcQ",
        "outputId": "3df8bced-b945-4897-bd11-ef8ead95c7d8"
      },
      "execution_count": null,
      "outputs": [
        {
          "output_type": "stream",
          "name": "stdout",
          "text": [
            "Digite uma frase: MaMeMiMo\n",
            "Me\n"
          ]
        }
      ]
    },
    {
      "cell_type": "markdown",
      "source": [
        "# Aula Teórica 2 - Condicionais"
      ],
      "metadata": {
        "id": "3gh54W8lgRem"
      }
    },
    {
      "cell_type": "markdown",
      "source": [
        "CONDICIONAL SIMPLES"
      ],
      "metadata": {
        "id": "fzA6XGVIn82F"
      }
    },
    {
      "cell_type": "code",
      "source": [
        "# Condicional simples\n",
        "\n",
        "#Python não utiliza chaves, o que indica as coisas que estão dentro do IF\n",
        "#é a INDENTAÇÃO\n",
        "\n",
        "num1 = int(input(\"Digite um valor: \"));\n",
        "num2 = int(input(\"Digite outro valor: \"));\n",
        "\n",
        "if(num1 > num2):\n",
        "    print(\"O primeiro número é maior do que o segundo!\");\n",
        "if(num1 < num2):\n",
        "    print(\"O segundo número é maior do que o primeiro!\");"
      ],
      "metadata": {
        "colab": {
          "base_uri": "https://localhost:8080/"
        },
        "id": "4vwzg_vNgoql",
        "outputId": "8e2c784c-4858-4e9c-8eb1-015bccdf510d"
      },
      "execution_count": null,
      "outputs": [
        {
          "output_type": "stream",
          "name": "stdout",
          "text": [
            "Digite um valor: 2\n",
            "Digite outro valor: 5\n",
            "O segundo número é maior do que o primeiro\n"
          ]
        }
      ]
    },
    {
      "cell_type": "markdown",
      "source": [
        "CONDICIONAL COMPOSTA"
      ],
      "metadata": {
        "id": "BzsAFcBHoAmU"
      }
    },
    {
      "cell_type": "code",
      "source": [
        "# Condicional composta\n",
        "\n",
        "#INDENTAÇÃO É CRÍTICA!\n",
        "\n",
        "num1 = int(input(\"Digite um valor: \"));\n",
        "num2 = int(input(\"Digite outro valor: \"));\n",
        "\n",
        "if(num1 > num2):\n",
        "    print(\"O primeiro número é maior do que o segundo!\");\n",
        "else:\n",
        "    print(\"O segundo número é maior do que o primeiro!\");"
      ],
      "metadata": {
        "colab": {
          "base_uri": "https://localhost:8080/"
        },
        "id": "cHklPDHnm8CE",
        "outputId": "c2f68bdf-2663-42a5-87ae-3841a9324252"
      },
      "execution_count": null,
      "outputs": [
        {
          "output_type": "stream",
          "name": "stdout",
          "text": [
            "Digite um valor: 2\n",
            "Digite outro valor: 6\n",
            "O segundo número é maior do que o primeiro!\n"
          ]
        }
      ]
    },
    {
      "cell_type": "code",
      "source": [
        "# Exerício - o número digitado é par ou ímpar?\n",
        "\n",
        "x = int(input(\"Digite um número: \"));\n",
        "\n",
        "if(x % 2 == 0):\n",
        "    print(\"O número digitado é par\");\n",
        "else:\n",
        "    print(\"O número digitado é ímpar\");"
      ],
      "metadata": {
        "colab": {
          "base_uri": "https://localhost:8080/"
        },
        "id": "BX74hM4znN9o",
        "outputId": "4de1ef17-d08f-4007-f724-9d18452f3cc1"
      },
      "execution_count": 51,
      "outputs": [
        {
          "output_type": "stream",
          "name": "stdout",
          "text": [
            "Digite um número: 107\n",
            "O número digitado é ímpar\n"
          ]
        }
      ]
    },
    {
      "cell_type": "markdown",
      "source": [
        "EXPRESSÃO LÓGICA E ÁLGEBRA BOOLEANA"
      ],
      "metadata": {
        "id": "vt9jBTGvoJDC"
      }
    },
    {
      "cell_type": "code",
      "source": [
        "# operador not\n",
        "\n",
        "#inverte o valor da variável booleana\n",
        "\n",
        "x = True;\n",
        "print(x);\n",
        "print(not x);"
      ],
      "metadata": {
        "colab": {
          "base_uri": "https://localhost:8080/"
        },
        "id": "kpdfr6rGoP2U",
        "outputId": "b905c629-e445-4bc8-dde9-e22c84fdfad8"
      },
      "execution_count": null,
      "outputs": [
        {
          "output_type": "stream",
          "name": "stdout",
          "text": [
            "True\n",
            "False\n"
          ]
        }
      ]
    },
    {
      "cell_type": "code",
      "source": [
        "# operador and\n",
        "\n",
        "#resulta uma saída True somente ambas variáveis forem True\n",
        "\n",
        "x = False;\n",
        "y = True;\n",
        "print(x);\n",
        "print(y)\n",
        "print(x and y);"
      ],
      "metadata": {
        "colab": {
          "base_uri": "https://localhost:8080/"
        },
        "id": "9IMdHtRjo2iz",
        "outputId": "9b9cf14d-03fd-48fb-f248-954ba01f1a29"
      },
      "execution_count": null,
      "outputs": [
        {
          "output_type": "stream",
          "name": "stdout",
          "text": [
            "False\n",
            "True\n",
            "False\n"
          ]
        }
      ]
    },
    {
      "cell_type": "code",
      "source": [
        "# operador or\n",
        "\n",
        "#resulta uma saída True se apenas uma das variáveis forem True\n",
        "\n",
        "x = False;\n",
        "y = True;\n",
        "print(x);\n",
        "print(y)\n",
        "print(x or y);"
      ],
      "metadata": {
        "colab": {
          "base_uri": "https://localhost:8080/"
        },
        "id": "TIZw68WapNxw",
        "outputId": "c5a9e38a-4bea-4b52-d4c8-bf3dd9132cff"
      },
      "execution_count": null,
      "outputs": [
        {
          "output_type": "stream",
          "name": "stdout",
          "text": [
            "False\n",
            "True\n",
            "True\n"
          ]
        }
      ]
    },
    {
      "cell_type": "code",
      "source": [
        "# Ordem de execução\n",
        "\n",
        "#Primeira avalia a relação, depois executa-se o operador not\n",
        "\n",
        "x = 10;\n",
        "y = 1;\n",
        "\n",
        "#x > y = True\n",
        "res = not x > y;\n",
        "print(res);"
      ],
      "metadata": {
        "colab": {
          "base_uri": "https://localhost:8080/"
        },
        "id": "hByawFuApral",
        "outputId": "689c5c76-6d4c-4101-f724-27cf0a980357"
      },
      "execution_count": null,
      "outputs": [
        {
          "output_type": "stream",
          "name": "stdout",
          "text": [
            "False\n"
          ]
        }
      ]
    },
    {
      "cell_type": "code",
      "source": [
        "x = 10;\n",
        "y = 1;\n",
        "z = 5.5;\n",
        "res = (x > y) and (z == y); #True and False\n",
        "print(res);"
      ],
      "metadata": {
        "colab": {
          "base_uri": "https://localhost:8080/"
        },
        "id": "hB0vpa3VqA45",
        "outputId": "329737ce-f4c4-4ffc-933a-5515102d0c25"
      },
      "execution_count": null,
      "outputs": [
        {
          "output_type": "stream",
          "name": "stdout",
          "text": [
            "False\n"
          ]
        }
      ]
    },
    {
      "cell_type": "code",
      "source": [
        "x = 10;\n",
        "y = 1;\n",
        "z = 5.5;\n",
        "res = (x > y) or not (z == y) and y != y + z / x #1.55\n",
        "#res = True or not False and True\n",
        "#res = True or True and True\n",
        "print(res);"
      ],
      "metadata": {
        "colab": {
          "base_uri": "https://localhost:8080/"
        },
        "id": "HLqWvnGaqJ9J",
        "outputId": "070a73ee-77c3-45b4-b7d8-d081989d6a3c"
      },
      "execution_count": null,
      "outputs": [
        {
          "output_type": "stream",
          "name": "stdout",
          "text": [
            "True\n"
          ]
        }
      ]
    },
    {
      "cell_type": "code",
      "source": [
        "#Exercício\n",
        "\n",
        "#Um aluno para passar de ano precisa ser aprovado em todas as matérias\n",
        "#A média para aprovação é 7, o aluno cursa 3 matérias\n",
        "#Escreva um algoritmo que leia a nota final do aluno e informe se\n",
        "#o aluno passou de ano ou não.\n",
        "\n",
        "mat1 = float(input(\"Digite sua nota final na matéria A: \"));\n",
        "mat2 = float(input(\"Digite sua nota final na matéria B: \"));\n",
        "mat3 = float(input(\"Digite sua nota final na matéria C: \"));\n",
        "\n",
        "\n",
        "if(mat1 >= 7 and mat2 >= 7 and mat3 >= 7):\n",
        "    print(\"O aluno passou de ano!\");\n",
        "else:\n",
        "    print(\"O aluno reprovou de ano.\");"
      ],
      "metadata": {
        "colab": {
          "base_uri": "https://localhost:8080/"
        },
        "id": "9OyPDXYRq2jI",
        "outputId": "6cb2d8bb-7d3c-4071-eac6-516eb4a2cc90"
      },
      "execution_count": null,
      "outputs": [
        {
          "output_type": "stream",
          "name": "stdout",
          "text": [
            "Digite sua nota final na matéria A: 7\n",
            "Digite sua nota final na matéria B: 7\n",
            "Digite sua nota final na matéria C: 7\n",
            "O aluno passou de ano!\n"
          ]
        }
      ]
    },
    {
      "cell_type": "markdown",
      "source": [
        "CONDICIONAIS ANINHADAS"
      ],
      "metadata": {
        "id": "eyp-J8vqskNa"
      }
    },
    {
      "cell_type": "code",
      "source": [
        "# Condicionais aninhadas - inserção de uma condicional dentro da outra\n",
        "\n",
        "#Escreva um algoritmo em que o usuário escolhe se quer comprar maçãs, laranjas\n",
        "#ou bananas. Utilizar um menu (1,2,3) para cada opção. Em seguida, perguntar a\n",
        "#quantidade, calcular o preço total do produto e mostrar na tela.\n",
        "#maça: 2,30 / laranja: 3,60 / banana: 1,85\n",
        "\n",
        "fruta = int(input(f\"Bem-vindo ao Mercadinho do Seu Zé!\\n\"\n",
        "f\"Escolha qual fruta deseja comprar, utilizando o menu abaixo:\\n\"\n",
        "f\"1- Maçã\\n\"\n",
        "f\"2- Laranja\\n\"\n",
        "f\"3- Banana\\n\"\n",
        "f\"Digite o número correspondente: \"));\n",
        "\n",
        "qtde = (int(input(\"Por favor, informe a quantidade que deseja comprar: \")));\n",
        "\n",
        "if(fruta == 1):\n",
        "    print(f\"O valor total a pagar é R${qtde * 2.3:.2f}\");\n",
        "if(fruta == 2):\n",
        "    print(f\"O valor total a pagar é R${qtde * 3.6:.2f}\");\n",
        "if(fruta == 3):\n",
        "    print(f\"O valor total a pagar é R${qtde * 1.85:.2f}\");"
      ],
      "metadata": {
        "colab": {
          "base_uri": "https://localhost:8080/"
        },
        "id": "QBhDJS_DsnUp",
        "outputId": "43d1531d-eae4-49bc-89c3-452a18725e39"
      },
      "execution_count": 49,
      "outputs": [
        {
          "output_type": "stream",
          "name": "stdout",
          "text": [
            "Bem-vindo ao Mercadinho do Seu Zé!\n",
            "Escolha qual fruta deseja comprar, utilizando o menu abaixo:\n",
            "1- Maçã\n",
            "2- Laranja\n",
            "3- Banana\n",
            "Digite o número correspondente: 1\n",
            "Por favor, informe a quantidade que deseja comprar: 10\n",
            "O valor total a pagar é R$23.00\n"
          ]
        }
      ]
    },
    {
      "cell_type": "code",
      "source": [
        "#Exercício com aninhamento\n",
        "\n",
        "fruta = int(input(f\"Bem-vindo ao Mercadinho do Seu Zé!\\n\"\n",
        "f\"Escolha qual fruta deseja comprar, utilizando o menu abaixo:\\n\"\n",
        "f\"1- Maçã\\n\"\n",
        "f\"2- Laranja\\n\"\n",
        "f\"3- Banana\\n\"\n",
        "f\"Digite o número correspondente: \"));\n",
        "\n",
        "qtde = (int(input(\"Por favor, informe a quantidade que deseja comprar: \")));\n",
        "\n",
        "if(fruta == 1):\n",
        "    print(f\"O valor total a pagar é R${qtde * 2.3:.2f}\");\n",
        "else:\n",
        "    if(fruta == 2):\n",
        "        print(f\"O valor total a pagar é R${qtde * 3.6:.2f}\");\n",
        "    else:\n",
        "        if(fruta == 3):\n",
        "            print(f\"O valor total a pagar é R${qtde * 1.85:.2f}\");\n",
        "        else:\n",
        "            print(\"Opção inválida!\");"
      ],
      "metadata": {
        "colab": {
          "base_uri": "https://localhost:8080/"
        },
        "id": "AaBkS4cbwNl7",
        "outputId": "1279a0ad-0fe8-45cf-90fd-bcee5dc60300"
      },
      "execution_count": null,
      "outputs": [
        {
          "output_type": "stream",
          "name": "stdout",
          "text": [
            "Bem-vindo ao Mercadinho do Seu Zé!\n",
            "Escolha qual fruta deseja comprar, utilizando o menu abaixo:\n",
            "1- Maçã\n",
            "2- Laranja\n",
            "3- Banana\n",
            "Digite o número correspondente: 3\n",
            "Por favor, informe a quantidade que deseja comprar: 5\n",
            "O valor total a pagar é R$9.25\n"
          ]
        }
      ]
    },
    {
      "cell_type": "markdown",
      "source": [
        "CONDICIONAL DE MÚLTIPLA ESCOLHA (ELIF)"
      ],
      "metadata": {
        "id": "VrWtWS0oxXj5"
      }
    },
    {
      "cell_type": "code",
      "source": [
        "#Resolução do exercício usando elif (else + if)\n",
        "\n",
        "fruta = int(input(f\"Bem-vindo ao Mercadinho do Seu Zé!\\n\"\n",
        "f\"Escolha qual fruta deseja comprar, utilizando o menu abaixo:\\n\"\n",
        "f\"1- Maçã\\n\"\n",
        "f\"2- Laranja\\n\"\n",
        "f\"3- Banana\\n\"\n",
        "f\"Digite o número correspondente: \"));\n",
        "\n",
        "qtde = (int(input(\"Por favor, informe a quantidade que deseja comprar: \")));\n",
        "\n",
        "if(fruta == 1):\n",
        "    print(f\"O valor total a pagar é R${qtde * 2.3:.2f}\");\n",
        "elif(fruta == 2):\n",
        "    print(f\"O valor total a pagar é R${qtde * 3.6:.2f}\");\n",
        "elif(fruta == 3):\n",
        "    print(f\"O valor total a pagar é R${qtde * 1.85:.2f}\");\n",
        "else:\n",
        "    print(\"Opção inválida!\");"
      ],
      "metadata": {
        "id": "bmcPJHpSxXZD"
      },
      "execution_count": null,
      "outputs": []
    },
    {
      "cell_type": "code",
      "source": [
        "#Exercício 2\n",
        "\n",
        "#Escreva um algoritmo que leia um nome e uma idade\n",
        "#Caso o nome digitado seja Vinicius, digite isso na tela\n",
        "#Caso seja usado outro nome, verifique sua idade. Se for menor do que 18,\n",
        "#informe que é menor de idade. Se for maior de 100 anos, informe esta pessoa\n",
        "#possivelmente nao existe\n",
        "\n",
        "nome = input(\"Digite um nome: \");\n",
        "idade = 0;\n",
        "\n",
        "if (nome == \"Vinicius\"):\n",
        "    print(f\"O nome digitado foi {nome}\");\n",
        "elif (nome != \"Vinicius\"):\n",
        "    idade = int(input(\"Digite sua idade: \"));\n",
        "    if (idade < 18):\n",
        "        print(\"Você é menor de idade e, ainda por cima, não é o Vinicius!\");\n",
        "    elif (idade > 100):\n",
        "        print(\"Você não é o Vinicius e, provavelmente, a pessoa informada não existe!\");\n",
        "    else:\n",
        "        print(f\"Apesar de não ser o Vinicius, olá, {nome}!\");"
      ],
      "metadata": {
        "id": "FjgyU7h3xypw",
        "colab": {
          "base_uri": "https://localhost:8080/"
        },
        "outputId": "eba611f2-1aef-4715-9830-0e435f6c05c9"
      },
      "execution_count": 65,
      "outputs": [
        {
          "output_type": "stream",
          "name": "stdout",
          "text": [
            "Digite um nome: Paulo\n",
            "Digite sua idade: 31\n",
            "Apesar de não ser o Vinicius, olá, Paulo!\n"
          ]
        }
      ]
    },
    {
      "cell_type": "markdown",
      "source": [
        "# Aula Prática 2"
      ],
      "metadata": {
        "id": "cmUixs5ogcqx"
      }
    },
    {
      "cell_type": "code",
      "source": [
        "# Exercício Aquecimento - Expressões booleanas\n",
        "\n",
        "# a) O somatório de 2 com 2 é menor que 4\n",
        "if (2 + 2 < 4):\n",
        "    print(\"True\");\n",
        "else:\n",
        "    print(\"False\");\n",
        "\n",
        "# b) O valor de 7 // 3 é igual a 1 + 1\n",
        "if(7 // 3 == 1 + 1):\n",
        "    print(\"True\");\n",
        "else:\n",
        "    print(\"False\");\n",
        "\n",
        "# c) A soma de 3 elevado ao quadrado com 4 elevado ao quadadro é igual a 25\n",
        "if(3 ** 2 + 4 ** 2 == 25):\n",
        "    print(\"True\");\n",
        "else:\n",
        "    print(\"False\");\n",
        "\n",
        "# d) A soma de 2, 4 e 6 é maior que 12\n",
        "if(2 + 4 + 6 > 12):\n",
        "    print(\"True\");\n",
        "else:\n",
        "    print(\"False\");\n",
        "\n",
        "# e) 1387 é divisivel por 19\n",
        "if(1387 % 19 == 0):\n",
        "    print(\"True\");\n",
        "else:\n",
        "    print(\"False\");\n",
        "\n",
        "# f) 31 é par\n",
        "if(31 % 2 == 0):\n",
        "    print(\"True\");\n",
        "else:\n",
        "    print(\"False\");\n",
        "\n",
        "# g) o menor valor entre 34, 29 e 31 é menor que 30\n",
        "if(min(34, 29, 31) < 30):\n",
        "    print(\"True\");\n",
        "else:\n",
        "    print(\"False\");"
      ],
      "metadata": {
        "colab": {
          "base_uri": "https://localhost:8080/"
        },
        "id": "JPTwB_8K4122",
        "outputId": "8e76db08-6e59-461a-d574-aff86903e114"
      },
      "execution_count": 78,
      "outputs": [
        {
          "output_type": "stream",
          "name": "stdout",
          "text": [
            "False\n",
            "True\n",
            "True\n",
            "False\n",
            "True\n",
            "False\n",
            "True\n"
          ]
        }
      ]
    },
    {
      "cell_type": "markdown",
      "source": [],
      "metadata": {
        "id": "w4ldOafN5kIz"
      }
    },
    {
      "cell_type": "code",
      "source": [
        "# Exercício Aquecimento - Condicional Simples\n",
        "\n",
        "# a) Se idade for maior que 60 imprima \"Você tem direito aos benefícios\"\n",
        "idade = 61\n",
        "if (idade > 60):\n",
        "    print(\"Você tem direito aos benefícios\")\n",
        "\n",
        "# b) Se dano é maior que 10 e escudo é igual a 0, escreva \"Você está morto\"\n",
        "escudo = 0\n",
        "dano = 11\n",
        "\n",
        "if (escudo == 0 and dano > 10):\n",
        "    print(\"Você está morto!\")\n",
        "\n",
        "# c) Se pelo menos uma das variaveis booleanas norte, sul, leste e oeste forem\n",
        "#true escreva \"Você escapou!\"\n",
        "\n",
        "norte = True;\n",
        "sul = False;\n",
        "leste = False;\n",
        "oeste = False;\n",
        "\n",
        "if (norte == True or sul == True or leste == True or oeste == True):\n",
        "    print(\"Você escapou!\")"
      ],
      "metadata": {
        "colab": {
          "base_uri": "https://localhost:8080/"
        },
        "id": "8PF5W75m7yVp",
        "outputId": "86d3ff01-2ccd-4db2-ec68-91340e89da83"
      },
      "execution_count": 92,
      "outputs": [
        {
          "output_type": "stream",
          "name": "stdout",
          "text": [
            "Você tem direito aos benefícios\n",
            "Você está morto!\n",
            "Você escapou!\n"
          ]
        }
      ]
    },
    {
      "cell_type": "code",
      "source": [
        "# Exercício Aquecimento - Condicional Composta\n",
        "\n",
        "# a) Se ano é divisível por 4: \"Pode ser ano bissexto\". Caso contrário:\n",
        "#\"definitivamente não é um ano bissexto\"\n",
        "ano = 2000\n",
        "if (ano % 4 == 0):\n",
        "    print(\"Pode ser ano bissexto\");\n",
        "else:\n",
        "    print(\"Definitivamente não é um ano bissexto\")\n",
        "\n",
        "# b) se ambas as variáveis booleanas forem True: \"decida-se\", caso contrário\n",
        "#\"você escolheu um caminho\"\n",
        "var1 = True;\n",
        "var2 = True;\n",
        "\n",
        "if (var1 == var2):\n",
        "    print(\"Decida-se!\");\n",
        "else:\n",
        "    print(\"Você escolheu um caminho!\")"
      ],
      "metadata": {
        "colab": {
          "base_uri": "https://localhost:8080/"
        },
        "id": "o2JxGNWt7yOp",
        "outputId": "76d6d4cd-db3a-417c-a38c-7a05bb3323c8"
      },
      "execution_count": 96,
      "outputs": [
        {
          "output_type": "stream",
          "name": "stdout",
          "text": [
            "Pode ser ano bissexto\n",
            "Decida-se!\n"
          ]
        }
      ]
    },
    {
      "cell_type": "code",
      "source": [
        "# Exercício 1\n",
        "\n",
        "#Faça um algoritmo que receba 3 valores, representando os lados de um triângulo\n",
        "#fornecidos pelo usuário. Verique se os valores formam um triângulo e classifi-\n",
        "#que como Equilatero, Isosceles ou Escaleno\n",
        "\n",
        "a = int(input(\"Informe o primeiro lado do triângulo: \"));\n",
        "b = int(input(\"Informe o primeiro lado do triângulo: \"));\n",
        "c = int(input(\"Informe o primeiro lado do triângulo: \"));\n",
        "\n",
        "if (a + b > c and a + c > b and b + c > a and a > 0 and b > 0 and c > 0):\n",
        "    print(\"Os lados formados formam um triângulo!\");\n",
        "    if (a == b and b == c and c == a):\n",
        "        print(\"O triângulo é equilátero\");\n",
        "    elif (a == b or b == c or a == c):\n",
        "        print(\"O triângulo é isósceles\");\n",
        "    elif (a != b and b != c and c != a):\n",
        "        print(\"O triângulo é escaleno\");\n",
        "else:\n",
        "    print(\"Os lados informados não formam um triângulo\");"
      ],
      "metadata": {
        "colab": {
          "base_uri": "https://localhost:8080/"
        },
        "id": "abzKhgWy-ZfU",
        "outputId": "e73596c2-7475-446e-c1ab-6fcbf7d6a938"
      },
      "execution_count": 110,
      "outputs": [
        {
          "output_type": "stream",
          "name": "stdout",
          "text": [
            "Informe o primeiro lado do triângulo: 0\n",
            "Informe o primeiro lado do triângulo: 1\n",
            "Informe o primeiro lado do triângulo: 2\n",
            "Os lados informados não formam um triângulo\n"
          ]
        }
      ]
    },
    {
      "cell_type": "code",
      "source": [
        "# Exercício 2\n",
        "\n",
        "# Escreva um algoritmo que leia dois valores e pergunte ao usuário qual operação\n",
        "#realizar. Exiba na tela o resultado da operação desejada\n",
        "\n",
        "num1 = int(input(\"Digite o primeiro número: \"));\n",
        "num2 = int(input(\"Digite o segundo número: \"));\n",
        "\n",
        "op = input(f\"Qual operação deseja realizar?\\n\"\n",
        "f\"Digite + para somar\\n\"\n",
        "f\"Digite - para subtrair\\n\"\n",
        "f\"Digite * para multiplicar\\n\"\n",
        "f\"Digite / para dividir\\n\");\n",
        "\n",
        "if (op == \"+\"):\n",
        "    print(f\"A soma de {num1} com {num2} é igual a {num1 + num2}\");\n",
        "elif (op == \"-\"):\n",
        "    print(f\"A subtração de {num1} com {num2} é igual a {num1 - num2}\");\n",
        "elif (op == \"*\"):\n",
        "    print(f\"A multiplicação de {num1} com {num2} é igual a {num1 * num2}\");\n",
        "elif (op == \"/\"):\n",
        "    print(f\"A divisão de {num1} com {num2} é igual a {num1 / num2}\");"
      ],
      "metadata": {
        "colab": {
          "base_uri": "https://localhost:8080/"
        },
        "id": "GzttO4S8Brjw",
        "outputId": "f99c2fcb-018e-41f5-f422-cb99260f89b1"
      },
      "execution_count": 119,
      "outputs": [
        {
          "output_type": "stream",
          "name": "stdout",
          "text": [
            "Digite o primeiro número: 9\n",
            "Digite o segundo número: 3\n",
            "Qual operação deseja realizar?\n",
            "Digite + para somar\n",
            "Digite - para subtrair\n",
            "Digite * para multiplicar\n",
            "Digite / para dividir\n",
            "/\n",
            "A divisão de 9 com 3 é igual a 3.0\n"
          ]
        }
      ]
    },
    {
      "cell_type": "code",
      "source": [
        "# Exercício 3\n",
        "\n",
        "#Escreva um programa que calcule o preço a pagar pela energia eletrica\n",
        "#Pergunte a quantidade kWh consumida e o tipo de instalação\n",
        "#R = residência, I = indústria e C = comércios\n",
        "\n",
        "\n",
        "consumo = int(input(\"Qual a quantidade de energia elétrica consumida em kWh?\"));\n",
        "tipo = input(f\"Qual o tipo de instalação?\\n\"\n",
        "f\"R - Residencial\\n\"\n",
        "f\"C - Comercial\\n\"\n",
        "f\"I - Industrial\\n\");\n",
        "\n",
        "if(tipo == \"R\"):\n",
        "    if (consumo < 500):\n",
        "        print(f\"O total a pagar é R$ {consumo * 0.40}\");\n",
        "    else:\n",
        "        print(f\"O total a pagar é R$ {consumo * 0.65}\");\n",
        "elif(tipo == \"C\"):\n",
        "    if(consumo < 1000):\n",
        "        print(f\"O total a pagar é R$ {consumo * 0.55}\");\n",
        "    else:\n",
        "        print(f\"O total a pagar é R$ {consumo * 0.60}\");\n",
        "elif(tipo == \"I\"):\n",
        "    if (consumo < 5000):\n",
        "        print(f\"O total a pagar é R$ {consumo * 0.55}\");\n",
        "    else:\n",
        "        print(f\"O total a pagar é R$ {consumo * 0.60}\");\n",
        "else:\n",
        "    print(\"Instalação inválida\")"
      ],
      "metadata": {
        "colab": {
          "base_uri": "https://localhost:8080/"
        },
        "id": "kEMdm0NCBrbH",
        "outputId": "39da5d51-cd29-4eba-bb6f-807d0c65a8e9"
      },
      "execution_count": 128,
      "outputs": [
        {
          "output_type": "stream",
          "name": "stdout",
          "text": [
            "Qual a quantidade de energia elétrica consumida em kWh?1000\n",
            "Qual o tipo de instalação?\n",
            "R - Residencial\n",
            "C - Comercial\n",
            "I - Industrial\n",
            "K\n",
            "Instalação inválida\n"
          ]
        }
      ]
    },
    {
      "cell_type": "code",
      "source": [],
      "metadata": {
        "id": "SV1i14XYEDEi"
      },
      "execution_count": null,
      "outputs": []
    }
  ]
}