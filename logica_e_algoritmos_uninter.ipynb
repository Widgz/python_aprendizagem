{
  "nbformat": 4,
  "nbformat_minor": 0,
  "metadata": {
    "colab": {
      "provenance": [],
      "toc_visible": true,
      "authorship_tag": "ABX9TyN1ML1dN9RLuhW0lrPq0mud",
      "include_colab_link": true
    },
    "kernelspec": {
      "name": "python3",
      "display_name": "Python 3"
    },
    "language_info": {
      "name": "python"
    }
  },
  "cells": [
    {
      "cell_type": "markdown",
      "metadata": {
        "id": "view-in-github",
        "colab_type": "text"
      },
      "source": [
        "<a href=\"https://colab.research.google.com/github/Widgz/python_aprendizagem/blob/main/logica_e_algoritmos_uninter.ipynb\" target=\"_parent\"><img src=\"https://colab.research.google.com/assets/colab-badge.svg\" alt=\"Open In Colab\"/></a>"
      ]
    },
    {
      "cell_type": "markdown",
      "source": [
        "# Aula Teórica 1"
      ],
      "metadata": {
        "id": "WsL1FCPBtHtB"
      }
    },
    {
      "cell_type": "markdown",
      "source": [
        "HELLO WORLD"
      ],
      "metadata": {
        "id": "xGvnwd_KblYT"
      }
    },
    {
      "cell_type": "code",
      "execution_count": 97,
      "metadata": {
        "colab": {
          "base_uri": "https://localhost:8080/"
        },
        "id": "onW2JGO5aF5T",
        "outputId": "ddf5d74c-0874-4216-baf9-1bf60e428330"
      },
      "outputs": [
        {
          "output_type": "stream",
          "name": "stdout",
          "text": [
            "Olá, mundo!\n"
          ]
        }
      ],
      "source": [
        "print(\"Olá, mundo!\");"
      ]
    },
    {
      "cell_type": "markdown",
      "source": [
        "CONCATENAÇÃO"
      ],
      "metadata": {
        "id": "we7PHQwgbpnc"
      }
    },
    {
      "cell_type": "code",
      "source": [
        "# A vírgula é usada para concatenar, ela insere espaços automaticos\n",
        "print(\"A soma de 2 + 3 é\", 2+3);"
      ],
      "metadata": {
        "colab": {
          "base_uri": "https://localhost:8080/"
        },
        "id": "gAjD4joSbspy",
        "outputId": "ac25351b-0950-4b41-fd65-225e21322e49"
      },
      "execution_count": 98,
      "outputs": [
        {
          "output_type": "stream",
          "name": "stdout",
          "text": [
            "A soma de 2 + 3 é 5\n"
          ]
        }
      ]
    },
    {
      "cell_type": "markdown",
      "source": [
        "VARIÁVEIS, DADOS E SEUS TIPOS"
      ],
      "metadata": {
        "id": "mnL-pPSBbPWL"
      }
    },
    {
      "cell_type": "code",
      "source": [
        "# As variáveis não precisam ter seu tipo declarado\n",
        "# O nome da variável não pode iniciar com número\n",
        "nota = 8.5;\n",
        "disciplina = \"Lógica de Programação e Algoritmos\"\n",
        "\n",
        "print(nota);\n",
        "print(disciplina);\n",
        "\n",
        "# Variaveis de nome composto usam o formato:\n",
        "# preco_total   -> tudo minisculo com \"_\" separando"
      ],
      "metadata": {
        "colab": {
          "base_uri": "https://localhost:8080/"
        },
        "id": "uu1d3gopbTU5",
        "outputId": "379ef9f9-4141-4fda-df65-add0675f0ca4"
      },
      "execution_count": 99,
      "outputs": [
        {
          "output_type": "stream",
          "name": "stdout",
          "text": [
            "8.5\n",
            "Lógica de Programação e Algoritmos\n"
          ]
        }
      ]
    },
    {
      "cell_type": "code",
      "source": [
        "#Variáveis booleanas (True or False)\n",
        "a = 1;\n",
        "b = 5;\n",
        "\n",
        "resposta = a == b;\n",
        "print(resposta);\n",
        "\n",
        "resposta = a != b;\n",
        "print(resposta);"
      ],
      "metadata": {
        "colab": {
          "base_uri": "https://localhost:8080/"
        },
        "id": "FRhK_3O4fD_5",
        "outputId": "fff4eade-1f46-4782-8c1d-776f98b2dc33"
      },
      "execution_count": 100,
      "outputs": [
        {
          "output_type": "stream",
          "name": "stdout",
          "text": [
            "False\n",
            "True\n"
          ]
        }
      ]
    },
    {
      "cell_type": "code",
      "source": [
        "frase = \"Olá, mundo!\";\n",
        "print(frase);\n",
        "\n",
        "# Para imprimir um caracter específico, usa-se: variável[índice]\n",
        "print(frase[0]);\n",
        "print(frase[1]);\n",
        "print(frase[2]);"
      ],
      "metadata": {
        "colab": {
          "base_uri": "https://localhost:8080/"
        },
        "id": "h594rQv-g-hY",
        "outputId": "6d303d55-bdab-4c18-b3bc-1d45e0596865"
      },
      "execution_count": 101,
      "outputs": [
        {
          "output_type": "stream",
          "name": "stdout",
          "text": [
            "Olá, mundo!\n",
            "O\n",
            "l\n",
            "á\n"
          ]
        }
      ]
    },
    {
      "cell_type": "markdown",
      "source": [
        "MANIPULAÇÕES AVANÇADAS COM STRINGS"
      ],
      "metadata": {
        "id": "1GK69oYPhvdl"
      }
    },
    {
      "cell_type": "code",
      "source": [
        "# Concatenação\n",
        "s1 = \"Lógica de Programação\";\n",
        "s1 = s1 + \" e Algoritmos\";\n",
        "print(s1);"
      ],
      "metadata": {
        "colab": {
          "base_uri": "https://localhost:8080/"
        },
        "id": "NomPw-8WhvMi",
        "outputId": "419b6cf2-e68c-46bb-c932-01056ad7a52b"
      },
      "execution_count": 102,
      "outputs": [
        {
          "output_type": "stream",
          "name": "stdout",
          "text": [
            "Lógica de Programação e Algoritmos\n"
          ]
        }
      ]
    },
    {
      "cell_type": "code",
      "source": [
        "# Repetindo strings na concatenação\n",
        "# Pode-se utilizar operações matemáticas, como abaixo:\n",
        "s1 = \"A\" + \"-\" * 10 + \"B\";\n",
        "print(s1);\n",
        "s1 = \"A\" + \" \" * 10 + \"B\";\n",
        "print(s1);"
      ],
      "metadata": {
        "colab": {
          "base_uri": "https://localhost:8080/"
        },
        "id": "dSx_jDFKiEA4",
        "outputId": "0c20207f-32f9-4290-c1a2-f87f18ee35ca"
      },
      "execution_count": 103,
      "outputs": [
        {
          "output_type": "stream",
          "name": "stdout",
          "text": [
            "A----------B\n",
            "A          B\n"
          ]
        }
      ]
    },
    {
      "cell_type": "code",
      "source": [
        "# Concatenação: composição por marcador de posição\n",
        "# %d ou %i = números inteiros\n",
        "# %f = float\n",
        "# %s = Strings\n",
        "\n",
        "nota = 8.5;\n",
        "s1 = \"Você tirou %f na disciplina de Algoritmos\" % nota;\n",
        "print(s1);\n",
        "s1 = \"Você tirou %d na disciplina de Algoritmos\" % nota;\n",
        "print(s1);\n",
        "\n",
        "# Limitando casas decimais\n",
        "s1 = \"Você tirou %.2f na disciplina de Algoritmos\" % nota;\n",
        "print(s1);\n",
        "\n",
        "# Exemplo com mais de uma variável\n",
        "disciplina = \"Algoritmos\";\n",
        "s1 = \"Você tirou %.2f na disciplina de %s\" % (nota, disciplina);\n",
        "print(s1);"
      ],
      "metadata": {
        "colab": {
          "base_uri": "https://localhost:8080/"
        },
        "id": "20Xvs7o6idAL",
        "outputId": "872b2bc0-3e4d-4f32-bc97-a5dde9e5d16b"
      },
      "execution_count": 104,
      "outputs": [
        {
          "output_type": "stream",
          "name": "stdout",
          "text": [
            "Você tirou 8.500000 na disciplina de Algoritmos\n",
            "Você tirou 8 na disciplina de Algoritmos\n",
            "Você tirou 8.50 na disciplina de Algoritmos\n",
            "Você tirou 8.50 na disciplina de Algoritmos\n"
          ]
        }
      ]
    },
    {
      "cell_type": "code",
      "source": [
        "# Concatenação: composição moderna\n",
        "# Neste modelo não é necessário citar o tipo da variável\n",
        "nota = 8.5;\n",
        "disciplina = \"Algoritmos\";\n",
        "s1 = \"Você tirou {} na disciplina de {}\" .format(nota, disciplina);\n",
        "print(s1);\n",
        "\n",
        "# Para formatar\n",
        "s1 = \"Você tirou {:.2f} na disciplina de {}\" .format(nota, disciplina);\n",
        "print(s1);"
      ],
      "metadata": {
        "colab": {
          "base_uri": "https://localhost:8080/"
        },
        "id": "oJW_fUKvkDnn",
        "outputId": "f824f186-0ff2-4960-a01b-16f8a191b816"
      },
      "execution_count": 105,
      "outputs": [
        {
          "output_type": "stream",
          "name": "stdout",
          "text": [
            "Você tirou 8.5 na disciplina de Algoritmos\n",
            "Você tirou 8.50 na disciplina de Algoritmos\n"
          ]
        }
      ]
    },
    {
      "cell_type": "code",
      "source": [
        "# Concatenação: f-strings\n",
        "\n",
        "nota = 8.5;\n",
        "disciplina = \"Algoritmos\";\n",
        "s1 = f\"Você tirou {nota} na disciplina de {disciplina}\";\n",
        "print(s1);\n",
        "\n",
        "# Para formatar\n",
        "s1 = f\"Você tirou {nota:.2f} na disciplina de {disciplina}\";\n",
        "print(s1);"
      ],
      "metadata": {
        "colab": {
          "base_uri": "https://localhost:8080/"
        },
        "id": "7OldER-WkqrR",
        "outputId": "5626c28b-88db-47dd-94f1-523ae1f54c57"
      },
      "execution_count": 106,
      "outputs": [
        {
          "output_type": "stream",
          "name": "stdout",
          "text": [
            "Você tirou 8.5 na disciplina de Algoritmos\n",
            "Você tirou 8.50 na disciplina de Algoritmos\n"
          ]
        }
      ]
    },
    {
      "cell_type": "code",
      "source": [
        "# Cadeia de caracteres de uma string\n",
        "# utiliza-se variável[índice_inicial:indice_final + 1]\n",
        "\n",
        "s1 = \"Lógica de Programação e Algoritmos\";\n",
        "print(s1[0:6]);\n",
        "\n",
        "print(s1[24:34]);\n",
        "\n",
        "# Para pegar os caracteres do início até um indice específico\n",
        "# pode-se omitir o início\n",
        "\n",
        "print(s1[:6]);"
      ],
      "metadata": {
        "colab": {
          "base_uri": "https://localhost:8080/"
        },
        "id": "c6IptXmmlCLK",
        "outputId": "ac681362-1924-4071-a06c-cf05bf406e01"
      },
      "execution_count": 107,
      "outputs": [
        {
          "output_type": "stream",
          "name": "stdout",
          "text": [
            "Lógica\n",
            "Algoritmos\n",
            "Lógica\n"
          ]
        }
      ]
    },
    {
      "cell_type": "code",
      "source": [
        "# String length\n",
        "# para saber o tamanho de uma string, utiliza-se a função \"len\"\n",
        "\n",
        "s1 = \"Lógica de Programação e Algoritmos\";\n",
        "print(len(s1));"
      ],
      "metadata": {
        "colab": {
          "base_uri": "https://localhost:8080/"
        },
        "id": "WteLINx5l5xv",
        "outputId": "5f51fb51-26ed-4390-9768-8f58c6855e07"
      },
      "execution_count": 108,
      "outputs": [
        {
          "output_type": "stream",
          "name": "stdout",
          "text": [
            "34\n"
          ]
        }
      ]
    },
    {
      "cell_type": "markdown",
      "source": [
        "FUNÇÃO DE ENTRADA E FLUXO DE EXECUÇÃO DE PROGRAMA"
      ],
      "metadata": {
        "id": "sMLpzb02mdwu"
      }
    },
    {
      "cell_type": "code",
      "source": [
        "# Função para ler um dado inserido pelo usuário utiliza-se \"input\"\n",
        "# pode-se atribuir o resultado diretamente a uma variável\n",
        "\n",
        "nome = input(\"Qual seu nome?\");\n",
        "print(f\"Olá, {idade}!\");"
      ],
      "metadata": {
        "colab": {
          "base_uri": "https://localhost:8080/"
        },
        "id": "6U4umco0meSr",
        "outputId": "3c3aca6e-1dcf-45e8-a973-130c3b2d7550"
      },
      "execution_count": 109,
      "outputs": [
        {
          "output_type": "stream",
          "name": "stdout",
          "text": [
            "Qual seu nome?Paulo\n",
            "Olá, Paulo!\n"
          ]
        }
      ]
    },
    {
      "cell_type": "code",
      "source": [
        "# Os inputs do Python sempre geram Strings\n",
        "# Para transformar em int, deve-se fazer um casting\n",
        "\n",
        "# int = numero inteiro\n",
        "# float = numero decimal\n",
        "\n",
        "nota1 = float(input(\"Qual sua primeira nota na disciplina?\"));\n",
        "nota2 = float(input(\"Qual sua segunda nota na disciplina?\"));\n",
        "nota = (nota1 + nota2) / 2;\n",
        "print(f\"Sua média foi {nota:.2f}\");\n",
        "\n",
        "# se não houvesse o casting acima, o programa apresentaria um erro na linha 9"
      ],
      "metadata": {
        "colab": {
          "base_uri": "https://localhost:8080/"
        },
        "id": "jmBOtvuZnCf9",
        "outputId": "50641a68-8f4e-42be-d502-dc9c2ee7e59a"
      },
      "execution_count": 110,
      "outputs": [
        {
          "output_type": "stream",
          "name": "stdout",
          "text": [
            "Qual sua primeira nota na disciplina?8\n",
            "Qual sua segunda nota na disciplina?9\n",
            "Sua média foi 8.50\n"
          ]
        }
      ]
    },
    {
      "cell_type": "code",
      "source": [
        "# Fluxo de execução do programa (teste de mesa)\n",
        "# Teste para verificar funcionamento do programa\n",
        "\n",
        "x = 1;\n",
        "y = 1;\n",
        "z = x + y; #z = 2\n",
        "\n",
        "x = x + 2; #x = 3\n",
        "y = y - 1; #y =0\n",
        "z = x + y; #z = 3\n",
        "\n",
        "x = y + 1; #x = 1\n",
        "y = x - 1; #y = 0\n",
        "z = x + y; #z = 1 (valor que deve ser impresso)\n",
        "\n",
        "print(z);"
      ],
      "metadata": {
        "colab": {
          "base_uri": "https://localhost:8080/"
        },
        "id": "EiFOmHPdoXB3",
        "outputId": "9c7285cc-61b9-494e-bb1d-f4acf623395a"
      },
      "execution_count": 112,
      "outputs": [
        {
          "output_type": "stream",
          "name": "stdout",
          "text": [
            "1\n"
          ]
        }
      ]
    },
    {
      "cell_type": "code",
      "source": [
        "# Exercício - Aula 1\n",
        "# Solicite ao usuário 2 números inteiros e imprima sua soma\n",
        "\n",
        "num1 = int(input(\"Digite um número inteiro: \"));\n",
        "num2 = int(input(\"Digite outro número inteiro: \"));\n",
        "\n",
        "resultado = num1 + num2;\n",
        "\n",
        "print(f\"A soma {num1} + {num2} é {resultado}\");"
      ],
      "metadata": {
        "colab": {
          "base_uri": "https://localhost:8080/"
        },
        "id": "b1nrAfNJqyOd",
        "outputId": "31d74e81-bffd-4a7e-f8d6-e04a08820050"
      },
      "execution_count": 113,
      "outputs": [
        {
          "output_type": "stream",
          "name": "stdout",
          "text": [
            "Digite um número inteiro: 5\n",
            "Digite outro número inteiro: 12\n",
            "A soma de 5 + 12 é 17\n"
          ]
        }
      ]
    },
    {
      "cell_type": "code",
      "source": [],
      "metadata": {
        "id": "d2QdfkVjtIxd"
      },
      "execution_count": null,
      "outputs": []
    },
    {
      "cell_type": "markdown",
      "source": [
        "# Aula Prática 1"
      ],
      "metadata": {
        "id": "_AsjuxeotRuv"
      }
    },
    {
      "cell_type": "code",
      "source": [
        "# Exercicio Aquecimento - Expressões algébricas\n",
        "\n",
        "# a) O somatório dos 5 primeiros números inteiros e positivos\n",
        "print(1 + 2 + 3 + 4 + 5);\n",
        "\n",
        "# b) A média entre 23, 19 e 31\n",
        "print((23 + 19 + 31) / 3);\n",
        "\n",
        "# c) O numero de vezes que 73 cabe em 403\n",
        "print(403 // 73);\n",
        "# print(int(403/73)) também funciona;\n",
        "\n",
        "# d) A sobra de quando 403 é dividido por 73\n",
        "print(403 % 73);\n",
        "\n",
        "# e) 2 elevado a décima potência\n",
        "print (2 ** 10);\n",
        "\n",
        "# f) o valor absoluto da diferença entre 54 e 57\n",
        "print(abs(54-57));\n",
        "\n",
        "# g) o menor valor entre 34, 29 e 31\n",
        "print(min(54,29,31));"
      ],
      "metadata": {
        "colab": {
          "base_uri": "https://localhost:8080/"
        },
        "id": "J3JQPJbatXv6",
        "outputId": "2bdf0fee-564b-468a-a4f0-41020fd5efed"
      },
      "execution_count": 125,
      "outputs": [
        {
          "output_type": "stream",
          "name": "stdout",
          "text": [
            "15\n",
            "24.333333333333332\n",
            "5\n",
            "38\n",
            "1024\n",
            "3\n",
            "29\n"
          ]
        }
      ]
    },
    {
      "cell_type": "code",
      "source": [
        "# Exercício Aquecimento - Atribuição\n",
        "\n",
        "# a) Atribuir o valor inteiro 3 à variável a\n",
        "a = 3;\n",
        "\n",
        "# b) Atribuir o valor inteiro 4 à variável b\n",
        "b = 4;\n",
        "\n",
        "# c) Atribuir à variável c o valor da expressão a*a + b*b\n",
        "c = (a * a) + (b * b);"
      ],
      "metadata": {
        "id": "FbjFv7KWvfzi"
      },
      "execution_count": 127,
      "outputs": []
    },
    {
      "cell_type": "code",
      "source": [
        "# Exercícios Aquecimento - Strings\n",
        "\n",
        "# a) Execute as seguintes atribuições:\n",
        "# s1 = \"ant\"\n",
        "s1 = \"ant\";\n",
        "# s2 = \"bat\"\n",
        "s2 = \"bat\";\n",
        "# s3 = \"cod\"\n",
        "s3 = \"cod\";\n",
        "\n",
        "# Agora, usando operadores de concatenação, crie as saídas a seguir:\n",
        "\n",
        "# a) \"ant bat cod\"\n",
        "res = s1 + \" \" + s2 + \" \" + s3;\n",
        "print(res);\n",
        "\n",
        "# b) \"ant ant ant ant ant ant ant ant ant ant\"\n",
        "res = s1 + \" \";\n",
        "print(res * 10);\n",
        "\n",
        "# c) \"ant bat bat cod cod cod\"\n",
        "res = s1 + \" \" + (s2 + \" \") * 2 + (s3 + \" \") * 3;\n",
        "print(res);\n",
        "\n",
        "# d) \"ant bat ant bat ant bat ant bat ant bat ant bat ant bat\"\n",
        "res = (s1 + \" \" + s2 + \" \") * 7;\n",
        "print(res);\n",
        "\n",
        "# e) \"batbatcod batbatcod batbatcod batbatcod batbatcod\"\n",
        "res = (s2 + s2 + s3 + \" \") * 5;\n",
        "print(res);"
      ],
      "metadata": {
        "colab": {
          "base_uri": "https://localhost:8080/"
        },
        "id": "NjcYVhrAwxPn",
        "outputId": "99a290c0-b255-4002-f9a9-9e917edb00dc"
      },
      "execution_count": 147,
      "outputs": [
        {
          "output_type": "stream",
          "name": "stdout",
          "text": [
            "ant bat cod\n",
            "ant ant ant ant ant ant ant ant ant ant \n",
            "ant bat bat cod cod cod \n",
            "ant bat ant bat ant bat ant bat ant bat ant bat ant bat \n",
            "batbatcod batbatcod batbatcod batbatcod batbatcod \n"
          ]
        }
      ]
    },
    {
      "cell_type": "code",
      "source": [
        "# Exercício 1\n",
        "\n",
        "#Desenvolva um algoritmo que solicite ao usuário o preço de um produto e um\n",
        "#percentual de desconto a ser aplicado a ele.\n",
        "#Calcule e exibe o valor do desconto e o preço final do produto\n",
        "\n",
        "preco = float(input(\"Informe o preço do produto: \"));\n",
        "desconto = float(input(\"Informe o percentual de desconto (0 a 100): \"));\n",
        "\n",
        "valor_desconto = preco * (desconto / 100);\n",
        "preco_final = preco - valor_desconto;\n",
        "\n",
        "print(f\"Preço inicial do produto: R$ {preco:.2f}\");\n",
        "print(f\"Desconto de {desconto}%, que corresponde ao valor de R$ {valor_desconto:.2f}\");\n",
        "print(f\"Preço final do produto: R$ {preco_final:.2f}\");"
      ],
      "metadata": {
        "colab": {
          "base_uri": "https://localhost:8080/"
        },
        "id": "gt937ne2ziUE",
        "outputId": "7a9a219a-884e-45ed-ee66-3ad249f3482f"
      },
      "execution_count": 155,
      "outputs": [
        {
          "output_type": "stream",
          "name": "stdout",
          "text": [
            "Informe o preço do produto: 100\n",
            "Informe o percentual de desconto (0 a 100): 10\n",
            "Preço inicial do produto: R$ 100.00\n",
            "Desconto de 10.0%, que corresponde ao valor de R$ 10.00\n",
            "Preço final do produto: R$ 90.00\n"
          ]
        }
      ]
    },
    {
      "cell_type": "code",
      "source": [
        "# Exercício 2\n",
        "\n",
        "#Escreva um programa que pergunta a quantidade de km percorridos por um carro\n",
        "#alugado pelo usuário, assim como a quantidade de dias pelos quais o carro foi\n",
        "#alugado. Calcule o preço a pagar, sabendo que o carro custa R$ 60 por dia e\n",
        "#R$ 0,15 por km rodado\n",
        "\n",
        "quilometragem = int(input(\"Por favor, informe a quilometragem rodada: \"));\n",
        "dias_alugado = int(input(\"Por favor, informe - em dias - o tempo em que o veículo ficou alugado: \"));\n",
        "\n",
        "valor_total = (quilometragem * 0.15) + (dias_alugado * 60);\n",
        "\n",
        "print(f\"Considerando {dias_alugado} dias de aluguel e {quilometragem} km rodados, o valor a pagar é R$ {valor_total:.2f}\");\n"
      ],
      "metadata": {
        "colab": {
          "base_uri": "https://localhost:8080/"
        },
        "id": "6-SHZO3Q2pOV",
        "outputId": "3832b38e-801a-493b-f638-56e528d39247"
      },
      "execution_count": 163,
      "outputs": [
        {
          "output_type": "stream",
          "name": "stdout",
          "text": [
            "Por favor, informe a quilometragem rodada: 100\n",
            "Por favor, informe - em dias - o tempo em que o veículo ficou alugado: 10\n",
            "Considerando 10 dias de aluguel e 100 km rodados, o valor a pagar é R$ 615.00\n"
          ]
        }
      ]
    },
    {
      "cell_type": "code",
      "source": [
        "# Exercício 3\n",
        "\n",
        "#Crie uma String que receba uma variável qualquer. Crie uma segunda variável,\n",
        "#agora contendo a metade da String digitada. Imprima na tela somente os dois\n",
        "#últimos caracteres da variável do tipo String.\n",
        "\n",
        "s1 = input(\"Digite uma frase: \");\n",
        "metade_s1 = (len(s1) // 2);\n",
        "\n",
        "s2 = s1[0:metade_s1]\n",
        "\n",
        "print(s2[-2:]);"
      ],
      "metadata": {
        "colab": {
          "base_uri": "https://localhost:8080/"
        },
        "id": "VEnDsd_V4jcQ",
        "outputId": "3df8bced-b945-4897-bd11-ef8ead95c7d8"
      },
      "execution_count": 196,
      "outputs": [
        {
          "output_type": "stream",
          "name": "stdout",
          "text": [
            "Digite uma frase: MaMeMiMo\n",
            "Me\n"
          ]
        }
      ]
    }
  ]
}